{
  "nbformat": 4,
  "nbformat_minor": 0,
  "metadata": {
    "colab": {
      "provenance": [],
      "authorship_tag": "ABX9TyNAoG+iHwebvfMvHqx61EKd",
      "include_colab_link": true
    },
    "kernelspec": {
      "name": "python3",
      "display_name": "Python 3"
    },
    "language_info": {
      "name": "python"
    }
  },
  "cells": [
    {
      "cell_type": "markdown",
      "metadata": {
        "id": "view-in-github",
        "colab_type": "text"
      },
      "source": [
        "<a href=\"https://colab.research.google.com/github/AnahiGutierrez22/Estadistica/blob/main/Unidad1/Pr%C3%A1ctica6.ipynb\" target=\"_parent\"><img src=\"https://colab.research.google.com/assets/colab-badge.svg\" alt=\"Open In Colab\"/></a>"
      ]
    },
    {
      "cell_type": "markdown",
      "source": [
        "## Probabilidad y estadistica\n",
        "\n",
        "Unidad 1\n",
        "\n",
        "Practica 6. Estadística descriptiva del Dataset Autos\n",
        "\n",
        "Facilitador: Dr. José Gabriel Rodríguez Rivas\n",
        "\n",
        "Alumna: Anahí Gutiérrez López"
      ],
      "metadata": {
        "id": "7IQcWgvL8ZjI"
      }
    },
    {
      "cell_type": "code",
      "source": [
        "import pandas as pd\n",
        "import numpy as np\n",
        "import matplotlib.pyplot as plt\n",
        "import seaborn as sns\n",
        "import statistics as stats\n",
        "import math"
      ],
      "metadata": {
        "id": "i_TTfXe9-ETe"
      },
      "execution_count": null,
      "outputs": []
    },
    {
      "cell_type": "code",
      "source": [
        "autos = pd.read_csv(\"autos2.csv\", encoding=\"latin-1\")\n"
      ],
      "metadata": {
        "id": "dy8SLUQM-Twk"
      },
      "execution_count": null,
      "outputs": []
    },
    {
      "cell_type": "code",
      "execution_count": null,
      "metadata": {
        "colab": {
          "base_uri": "https://localhost:8080/"
        },
        "id": "94Ng70Vn8XvP",
        "outputId": "c32f5294-0d3b-4c39-e2d7-dd10b12ab7fc"
      },
      "outputs": [
        {
          "output_type": "execute_result",
          "data": {
            "text/plain": [
              "5118.0"
            ]
          },
          "metadata": {},
          "execution_count": 6
        }
      ],
      "source": [
        "# Determinar el valor mínimo de precios\n",
        "autos.price.min()\n"
      ]
    },
    {
      "cell_type": "code",
      "source": [
        "#Determinar el valor máximo de precios\n",
        "autos.price.max()"
      ],
      "metadata": {
        "colab": {
          "base_uri": "https://localhost:8080/"
        },
        "id": "vGHTyBzCC5sO",
        "outputId": "2e44b360-f6a8-4a7c-a852-2d4eb6117479"
      },
      "execution_count": null,
      "outputs": [
        {
          "output_type": "execute_result",
          "data": {
            "text/plain": [
              "45400.0"
            ]
          },
          "metadata": {},
          "execution_count": 7
        }
      ]
    },
    {
      "cell_type": "code",
      "source": [
        "#Determinar el valor de la moda de precios\n",
        "moda = stats.mode(autos.price)\n",
        "print(moda)"
      ],
      "metadata": {
        "colab": {
          "base_uri": "https://localhost:8080/"
        },
        "id": "VIZSQzxvC_Q6",
        "outputId": "340b436f-5e45-4cf7-ff0d-2954328c9aa7"
      },
      "execution_count": null,
      "outputs": [
        {
          "output_type": "stream",
          "name": "stdout",
          "text": [
            "16500.0\n"
          ]
        }
      ]
    },
    {
      "cell_type": "code",
      "source": [
        "#Determinar el valor de la media de precios\n",
        "media = np.mean(autos.price)\n",
        "print (media)"
      ],
      "metadata": {
        "colab": {
          "base_uri": "https://localhost:8080/"
        },
        "id": "XNRAbgTzD1Da",
        "outputId": "1eb7909e-f7a8-469f-dad5-9ecebeddd1e3"
      },
      "execution_count": null,
      "outputs": [
        {
          "output_type": "stream",
          "name": "stdout",
          "text": [
            "13207.129353233831\n"
          ]
        }
      ]
    },
    {
      "cell_type": "code",
      "source": [
        "#Determinar el valor de la mediana de precios\n",
        "mediana= stats.median(autos.price)\n",
        "print (mediana)"
      ],
      "metadata": {
        "colab": {
          "base_uri": "https://localhost:8080/"
        },
        "id": "rHGR0wbCEe_F",
        "outputId": "174894bf-a844-4362-cc21-db41a5701de1"
      },
      "execution_count": null,
      "outputs": [
        {
          "output_type": "stream",
          "name": "stdout",
          "text": [
            "18150.0\n"
          ]
        }
      ]
    },
    {
      "cell_type": "code",
      "source": [
        "#Determinar el valor de la desviación estándar de precios\n",
        "desviacion_estandar= np.std(autos.price)\n",
        "print(desviacion_estandar)"
      ],
      "metadata": {
        "colab": {
          "base_uri": "https://localhost:8080/"
        },
        "id": "__sTa2DzFU8O",
        "outputId": "bdfde8eb-1c06-43c5-d86b-698b5091051d"
      },
      "execution_count": null,
      "outputs": [
        {
          "output_type": "stream",
          "name": "stdout",
          "text": [
            "7927.272870751157\n"
          ]
        }
      ]
    },
    {
      "cell_type": "code",
      "source": [
        "#Determinar los estadísticos y cuartiles con la función describe()\n",
        "autos.describe()"
      ],
      "metadata": {
        "colab": {
          "base_uri": "https://localhost:8080/",
          "height": 337
        },
        "id": "Sbu1IM4cFj1E",
        "outputId": "fcda6ed7-7e9c-4677-de43-ea45ba9f09cd"
      },
      "execution_count": null,
      "outputs": [
        {
          "output_type": "execute_result",
          "data": {
            "text/plain": [
              "        symboling  normalized-losses  wheel-base      length       width  \\\n",
              "count  205.000000         205.000000  205.000000  205.000000  205.000000   \n",
              "mean     0.834146         122.000000   98.756585  174.049268   65.907805   \n",
              "std      1.245307          31.681008    6.021776   12.337289    2.145204   \n",
              "min     -2.000000          65.000000   86.600000  141.100000   60.300000   \n",
              "25%      0.000000         101.000000   94.500000  166.300000   64.100000   \n",
              "50%      1.000000         122.000000   97.000000  173.200000   65.500000   \n",
              "75%      2.000000         137.000000  102.400000  183.100000   66.900000   \n",
              "max      3.000000         256.000000  120.900000  208.100000   72.300000   \n",
              "\n",
              "           height  curb-weight  engine-size        bore      stroke  \\\n",
              "count  205.000000   205.000000   205.000000  201.000000  201.000000   \n",
              "mean    53.724878  2555.565854   126.907317    3.329751    3.255423   \n",
              "std      2.443522   520.680204    41.642693    0.273539    0.316717   \n",
              "min     47.800000  1488.000000    61.000000    2.540000    2.070000   \n",
              "25%     52.000000  2145.000000    97.000000    3.150000    3.110000   \n",
              "50%     54.100000  2414.000000   120.000000    3.310000    3.290000   \n",
              "75%     55.500000  2935.000000   141.000000    3.590000    3.410000   \n",
              "max     59.800000  4066.000000   326.000000    3.940000    4.170000   \n",
              "\n",
              "       compression-ratio  horsepower     peak-rpm    city-mpg  highway-mpg  \\\n",
              "count         205.000000  203.000000   203.000000  205.000000   205.000000   \n",
              "mean           10.142537  104.256158  5125.369458   25.219512    30.751220   \n",
              "std             3.972040   39.714369   479.334560    6.542142     6.886443   \n",
              "min             7.000000   48.000000  4150.000000   13.000000    16.000000   \n",
              "25%             8.600000   70.000000  4800.000000   19.000000    25.000000   \n",
              "50%             9.000000   95.000000  5200.000000   24.000000    30.000000   \n",
              "75%             9.400000  116.000000  5500.000000   30.000000    34.000000   \n",
              "max            23.000000  288.000000  6600.000000   49.000000    54.000000   \n",
              "\n",
              "              price  \n",
              "count    201.000000  \n",
              "mean   13207.129353  \n",
              "std     7947.066342  \n",
              "min     5118.000000  \n",
              "25%     7775.000000  \n",
              "50%    10295.000000  \n",
              "75%    16500.000000  \n",
              "max    45400.000000  "
            ],
            "text/html": [
              "\n",
              "  <div id=\"df-b7f764b9-66f5-45ef-9f55-6601d834fe4b\" class=\"colab-df-container\">\n",
              "    <div>\n",
              "<style scoped>\n",
              "    .dataframe tbody tr th:only-of-type {\n",
              "        vertical-align: middle;\n",
              "    }\n",
              "\n",
              "    .dataframe tbody tr th {\n",
              "        vertical-align: top;\n",
              "    }\n",
              "\n",
              "    .dataframe thead th {\n",
              "        text-align: right;\n",
              "    }\n",
              "</style>\n",
              "<table border=\"1\" class=\"dataframe\">\n",
              "  <thead>\n",
              "    <tr style=\"text-align: right;\">\n",
              "      <th></th>\n",
              "      <th>symboling</th>\n",
              "      <th>normalized-losses</th>\n",
              "      <th>wheel-base</th>\n",
              "      <th>length</th>\n",
              "      <th>width</th>\n",
              "      <th>height</th>\n",
              "      <th>curb-weight</th>\n",
              "      <th>engine-size</th>\n",
              "      <th>bore</th>\n",
              "      <th>stroke</th>\n",
              "      <th>compression-ratio</th>\n",
              "      <th>horsepower</th>\n",
              "      <th>peak-rpm</th>\n",
              "      <th>city-mpg</th>\n",
              "      <th>highway-mpg</th>\n",
              "      <th>price</th>\n",
              "    </tr>\n",
              "  </thead>\n",
              "  <tbody>\n",
              "    <tr>\n",
              "      <th>count</th>\n",
              "      <td>205.000000</td>\n",
              "      <td>205.000000</td>\n",
              "      <td>205.000000</td>\n",
              "      <td>205.000000</td>\n",
              "      <td>205.000000</td>\n",
              "      <td>205.000000</td>\n",
              "      <td>205.000000</td>\n",
              "      <td>205.000000</td>\n",
              "      <td>201.000000</td>\n",
              "      <td>201.000000</td>\n",
              "      <td>205.000000</td>\n",
              "      <td>203.000000</td>\n",
              "      <td>203.000000</td>\n",
              "      <td>205.000000</td>\n",
              "      <td>205.000000</td>\n",
              "      <td>201.000000</td>\n",
              "    </tr>\n",
              "    <tr>\n",
              "      <th>mean</th>\n",
              "      <td>0.834146</td>\n",
              "      <td>122.000000</td>\n",
              "      <td>98.756585</td>\n",
              "      <td>174.049268</td>\n",
              "      <td>65.907805</td>\n",
              "      <td>53.724878</td>\n",
              "      <td>2555.565854</td>\n",
              "      <td>126.907317</td>\n",
              "      <td>3.329751</td>\n",
              "      <td>3.255423</td>\n",
              "      <td>10.142537</td>\n",
              "      <td>104.256158</td>\n",
              "      <td>5125.369458</td>\n",
              "      <td>25.219512</td>\n",
              "      <td>30.751220</td>\n",
              "      <td>13207.129353</td>\n",
              "    </tr>\n",
              "    <tr>\n",
              "      <th>std</th>\n",
              "      <td>1.245307</td>\n",
              "      <td>31.681008</td>\n",
              "      <td>6.021776</td>\n",
              "      <td>12.337289</td>\n",
              "      <td>2.145204</td>\n",
              "      <td>2.443522</td>\n",
              "      <td>520.680204</td>\n",
              "      <td>41.642693</td>\n",
              "      <td>0.273539</td>\n",
              "      <td>0.316717</td>\n",
              "      <td>3.972040</td>\n",
              "      <td>39.714369</td>\n",
              "      <td>479.334560</td>\n",
              "      <td>6.542142</td>\n",
              "      <td>6.886443</td>\n",
              "      <td>7947.066342</td>\n",
              "    </tr>\n",
              "    <tr>\n",
              "      <th>min</th>\n",
              "      <td>-2.000000</td>\n",
              "      <td>65.000000</td>\n",
              "      <td>86.600000</td>\n",
              "      <td>141.100000</td>\n",
              "      <td>60.300000</td>\n",
              "      <td>47.800000</td>\n",
              "      <td>1488.000000</td>\n",
              "      <td>61.000000</td>\n",
              "      <td>2.540000</td>\n",
              "      <td>2.070000</td>\n",
              "      <td>7.000000</td>\n",
              "      <td>48.000000</td>\n",
              "      <td>4150.000000</td>\n",
              "      <td>13.000000</td>\n",
              "      <td>16.000000</td>\n",
              "      <td>5118.000000</td>\n",
              "    </tr>\n",
              "    <tr>\n",
              "      <th>25%</th>\n",
              "      <td>0.000000</td>\n",
              "      <td>101.000000</td>\n",
              "      <td>94.500000</td>\n",
              "      <td>166.300000</td>\n",
              "      <td>64.100000</td>\n",
              "      <td>52.000000</td>\n",
              "      <td>2145.000000</td>\n",
              "      <td>97.000000</td>\n",
              "      <td>3.150000</td>\n",
              "      <td>3.110000</td>\n",
              "      <td>8.600000</td>\n",
              "      <td>70.000000</td>\n",
              "      <td>4800.000000</td>\n",
              "      <td>19.000000</td>\n",
              "      <td>25.000000</td>\n",
              "      <td>7775.000000</td>\n",
              "    </tr>\n",
              "    <tr>\n",
              "      <th>50%</th>\n",
              "      <td>1.000000</td>\n",
              "      <td>122.000000</td>\n",
              "      <td>97.000000</td>\n",
              "      <td>173.200000</td>\n",
              "      <td>65.500000</td>\n",
              "      <td>54.100000</td>\n",
              "      <td>2414.000000</td>\n",
              "      <td>120.000000</td>\n",
              "      <td>3.310000</td>\n",
              "      <td>3.290000</td>\n",
              "      <td>9.000000</td>\n",
              "      <td>95.000000</td>\n",
              "      <td>5200.000000</td>\n",
              "      <td>24.000000</td>\n",
              "      <td>30.000000</td>\n",
              "      <td>10295.000000</td>\n",
              "    </tr>\n",
              "    <tr>\n",
              "      <th>75%</th>\n",
              "      <td>2.000000</td>\n",
              "      <td>137.000000</td>\n",
              "      <td>102.400000</td>\n",
              "      <td>183.100000</td>\n",
              "      <td>66.900000</td>\n",
              "      <td>55.500000</td>\n",
              "      <td>2935.000000</td>\n",
              "      <td>141.000000</td>\n",
              "      <td>3.590000</td>\n",
              "      <td>3.410000</td>\n",
              "      <td>9.400000</td>\n",
              "      <td>116.000000</td>\n",
              "      <td>5500.000000</td>\n",
              "      <td>30.000000</td>\n",
              "      <td>34.000000</td>\n",
              "      <td>16500.000000</td>\n",
              "    </tr>\n",
              "    <tr>\n",
              "      <th>max</th>\n",
              "      <td>3.000000</td>\n",
              "      <td>256.000000</td>\n",
              "      <td>120.900000</td>\n",
              "      <td>208.100000</td>\n",
              "      <td>72.300000</td>\n",
              "      <td>59.800000</td>\n",
              "      <td>4066.000000</td>\n",
              "      <td>326.000000</td>\n",
              "      <td>3.940000</td>\n",
              "      <td>4.170000</td>\n",
              "      <td>23.000000</td>\n",
              "      <td>288.000000</td>\n",
              "      <td>6600.000000</td>\n",
              "      <td>49.000000</td>\n",
              "      <td>54.000000</td>\n",
              "      <td>45400.000000</td>\n",
              "    </tr>\n",
              "  </tbody>\n",
              "</table>\n",
              "</div>\n",
              "    <div class=\"colab-df-buttons\">\n",
              "\n",
              "  <div class=\"colab-df-container\">\n",
              "    <button class=\"colab-df-convert\" onclick=\"convertToInteractive('df-b7f764b9-66f5-45ef-9f55-6601d834fe4b')\"\n",
              "            title=\"Convert this dataframe to an interactive table.\"\n",
              "            style=\"display:none;\">\n",
              "\n",
              "  <svg xmlns=\"http://www.w3.org/2000/svg\" height=\"24px\" viewBox=\"0 -960 960 960\">\n",
              "    <path d=\"M120-120v-720h720v720H120Zm60-500h600v-160H180v160Zm220 220h160v-160H400v160Zm0 220h160v-160H400v160ZM180-400h160v-160H180v160Zm440 0h160v-160H620v160ZM180-180h160v-160H180v160Zm440 0h160v-160H620v160Z\"/>\n",
              "  </svg>\n",
              "    </button>\n",
              "\n",
              "  <style>\n",
              "    .colab-df-container {\n",
              "      display:flex;\n",
              "      gap: 12px;\n",
              "    }\n",
              "\n",
              "    .colab-df-convert {\n",
              "      background-color: #E8F0FE;\n",
              "      border: none;\n",
              "      border-radius: 50%;\n",
              "      cursor: pointer;\n",
              "      display: none;\n",
              "      fill: #1967D2;\n",
              "      height: 32px;\n",
              "      padding: 0 0 0 0;\n",
              "      width: 32px;\n",
              "    }\n",
              "\n",
              "    .colab-df-convert:hover {\n",
              "      background-color: #E2EBFA;\n",
              "      box-shadow: 0px 1px 2px rgba(60, 64, 67, 0.3), 0px 1px 3px 1px rgba(60, 64, 67, 0.15);\n",
              "      fill: #174EA6;\n",
              "    }\n",
              "\n",
              "    .colab-df-buttons div {\n",
              "      margin-bottom: 4px;\n",
              "    }\n",
              "\n",
              "    [theme=dark] .colab-df-convert {\n",
              "      background-color: #3B4455;\n",
              "      fill: #D2E3FC;\n",
              "    }\n",
              "\n",
              "    [theme=dark] .colab-df-convert:hover {\n",
              "      background-color: #434B5C;\n",
              "      box-shadow: 0px 1px 3px 1px rgba(0, 0, 0, 0.15);\n",
              "      filter: drop-shadow(0px 1px 2px rgba(0, 0, 0, 0.3));\n",
              "      fill: #FFFFFF;\n",
              "    }\n",
              "  </style>\n",
              "\n",
              "    <script>\n",
              "      const buttonEl =\n",
              "        document.querySelector('#df-b7f764b9-66f5-45ef-9f55-6601d834fe4b button.colab-df-convert');\n",
              "      buttonEl.style.display =\n",
              "        google.colab.kernel.accessAllowed ? 'block' : 'none';\n",
              "\n",
              "      async function convertToInteractive(key) {\n",
              "        const element = document.querySelector('#df-b7f764b9-66f5-45ef-9f55-6601d834fe4b');\n",
              "        const dataTable =\n",
              "          await google.colab.kernel.invokeFunction('convertToInteractive',\n",
              "                                                    [key], {});\n",
              "        if (!dataTable) return;\n",
              "\n",
              "        const docLinkHtml = 'Like what you see? Visit the ' +\n",
              "          '<a target=\"_blank\" href=https://colab.research.google.com/notebooks/data_table.ipynb>data table notebook</a>'\n",
              "          + ' to learn more about interactive tables.';\n",
              "        element.innerHTML = '';\n",
              "        dataTable['output_type'] = 'display_data';\n",
              "        await google.colab.output.renderOutput(dataTable, element);\n",
              "        const docLink = document.createElement('div');\n",
              "        docLink.innerHTML = docLinkHtml;\n",
              "        element.appendChild(docLink);\n",
              "      }\n",
              "    </script>\n",
              "  </div>\n",
              "\n",
              "\n",
              "<div id=\"df-3dd06464-c418-46a6-be95-8be2ec3b6005\">\n",
              "  <button class=\"colab-df-quickchart\" onclick=\"quickchart('df-3dd06464-c418-46a6-be95-8be2ec3b6005')\"\n",
              "            title=\"Suggest charts\"\n",
              "            style=\"display:none;\">\n",
              "\n",
              "<svg xmlns=\"http://www.w3.org/2000/svg\" height=\"24px\"viewBox=\"0 0 24 24\"\n",
              "     width=\"24px\">\n",
              "    <g>\n",
              "        <path d=\"M19 3H5c-1.1 0-2 .9-2 2v14c0 1.1.9 2 2 2h14c1.1 0 2-.9 2-2V5c0-1.1-.9-2-2-2zM9 17H7v-7h2v7zm4 0h-2V7h2v10zm4 0h-2v-4h2v4z\"/>\n",
              "    </g>\n",
              "</svg>\n",
              "  </button>\n",
              "\n",
              "<style>\n",
              "  .colab-df-quickchart {\n",
              "      --bg-color: #E8F0FE;\n",
              "      --fill-color: #1967D2;\n",
              "      --hover-bg-color: #E2EBFA;\n",
              "      --hover-fill-color: #174EA6;\n",
              "      --disabled-fill-color: #AAA;\n",
              "      --disabled-bg-color: #DDD;\n",
              "  }\n",
              "\n",
              "  [theme=dark] .colab-df-quickchart {\n",
              "      --bg-color: #3B4455;\n",
              "      --fill-color: #D2E3FC;\n",
              "      --hover-bg-color: #434B5C;\n",
              "      --hover-fill-color: #FFFFFF;\n",
              "      --disabled-bg-color: #3B4455;\n",
              "      --disabled-fill-color: #666;\n",
              "  }\n",
              "\n",
              "  .colab-df-quickchart {\n",
              "    background-color: var(--bg-color);\n",
              "    border: none;\n",
              "    border-radius: 50%;\n",
              "    cursor: pointer;\n",
              "    display: none;\n",
              "    fill: var(--fill-color);\n",
              "    height: 32px;\n",
              "    padding: 0;\n",
              "    width: 32px;\n",
              "  }\n",
              "\n",
              "  .colab-df-quickchart:hover {\n",
              "    background-color: var(--hover-bg-color);\n",
              "    box-shadow: 0 1px 2px rgba(60, 64, 67, 0.3), 0 1px 3px 1px rgba(60, 64, 67, 0.15);\n",
              "    fill: var(--button-hover-fill-color);\n",
              "  }\n",
              "\n",
              "  .colab-df-quickchart-complete:disabled,\n",
              "  .colab-df-quickchart-complete:disabled:hover {\n",
              "    background-color: var(--disabled-bg-color);\n",
              "    fill: var(--disabled-fill-color);\n",
              "    box-shadow: none;\n",
              "  }\n",
              "\n",
              "  .colab-df-spinner {\n",
              "    border: 2px solid var(--fill-color);\n",
              "    border-color: transparent;\n",
              "    border-bottom-color: var(--fill-color);\n",
              "    animation:\n",
              "      spin 1s steps(1) infinite;\n",
              "  }\n",
              "\n",
              "  @keyframes spin {\n",
              "    0% {\n",
              "      border-color: transparent;\n",
              "      border-bottom-color: var(--fill-color);\n",
              "      border-left-color: var(--fill-color);\n",
              "    }\n",
              "    20% {\n",
              "      border-color: transparent;\n",
              "      border-left-color: var(--fill-color);\n",
              "      border-top-color: var(--fill-color);\n",
              "    }\n",
              "    30% {\n",
              "      border-color: transparent;\n",
              "      border-left-color: var(--fill-color);\n",
              "      border-top-color: var(--fill-color);\n",
              "      border-right-color: var(--fill-color);\n",
              "    }\n",
              "    40% {\n",
              "      border-color: transparent;\n",
              "      border-right-color: var(--fill-color);\n",
              "      border-top-color: var(--fill-color);\n",
              "    }\n",
              "    60% {\n",
              "      border-color: transparent;\n",
              "      border-right-color: var(--fill-color);\n",
              "    }\n",
              "    80% {\n",
              "      border-color: transparent;\n",
              "      border-right-color: var(--fill-color);\n",
              "      border-bottom-color: var(--fill-color);\n",
              "    }\n",
              "    90% {\n",
              "      border-color: transparent;\n",
              "      border-bottom-color: var(--fill-color);\n",
              "    }\n",
              "  }\n",
              "</style>\n",
              "\n",
              "  <script>\n",
              "    async function quickchart(key) {\n",
              "      const quickchartButtonEl =\n",
              "        document.querySelector('#' + key + ' button');\n",
              "      quickchartButtonEl.disabled = true;  // To prevent multiple clicks.\n",
              "      quickchartButtonEl.classList.add('colab-df-spinner');\n",
              "      try {\n",
              "        const charts = await google.colab.kernel.invokeFunction(\n",
              "            'suggestCharts', [key], {});\n",
              "      } catch (error) {\n",
              "        console.error('Error during call to suggestCharts:', error);\n",
              "      }\n",
              "      quickchartButtonEl.classList.remove('colab-df-spinner');\n",
              "      quickchartButtonEl.classList.add('colab-df-quickchart-complete');\n",
              "    }\n",
              "    (() => {\n",
              "      let quickchartButtonEl =\n",
              "        document.querySelector('#df-3dd06464-c418-46a6-be95-8be2ec3b6005 button');\n",
              "      quickchartButtonEl.style.display =\n",
              "        google.colab.kernel.accessAllowed ? 'block' : 'none';\n",
              "    })();\n",
              "  </script>\n",
              "</div>\n",
              "\n",
              "    </div>\n",
              "  </div>\n"
            ],
            "application/vnd.google.colaboratory.intrinsic+json": {
              "type": "dataframe",
              "summary": "{\n  \"name\": \"autos\",\n  \"rows\": 8,\n  \"fields\": [\n    {\n      \"column\": \"symboling\",\n      \"properties\": {\n        \"dtype\": \"number\",\n        \"std\": 72.18619738012798,\n        \"min\": -2.0,\n        \"max\": 205.0,\n        \"num_unique_values\": 8,\n        \"samples\": [\n          0.8341463414634146,\n          1.0,\n          205.0\n        ],\n        \"semantic_type\": \"\",\n        \"description\": \"\"\n      }\n    },\n    {\n      \"column\": \"normalized-losses\",\n      \"properties\": {\n        \"dtype\": \"number\",\n        \"std\": 72.12153576517535,\n        \"min\": 31.6810081043802,\n        \"max\": 256.0,\n        \"num_unique_values\": 7,\n        \"samples\": [\n          205.0,\n          122.0,\n          137.0\n        ],\n        \"semantic_type\": \"\",\n        \"description\": \"\"\n      }\n    },\n    {\n      \"column\": \"wheel-base\",\n      \"properties\": {\n        \"dtype\": \"number\",\n        \"std\": 54.121837757672914,\n        \"min\": 6.021775685025572,\n        \"max\": 205.0,\n        \"num_unique_values\": 8,\n        \"samples\": [\n          98.75658536585367,\n          97.0,\n          205.0\n        ],\n        \"semantic_type\": \"\",\n        \"description\": \"\"\n      }\n    },\n    {\n      \"column\": \"length\",\n      \"properties\": {\n        \"dtype\": \"number\",\n        \"std\": 62.57530527897738,\n        \"min\": 12.337288526555186,\n        \"max\": 208.1,\n        \"num_unique_values\": 8,\n        \"samples\": [\n          174.04926829268288,\n          173.2,\n          205.0\n        ],\n        \"semantic_type\": \"\",\n        \"description\": \"\"\n      }\n    },\n    {\n      \"column\": \"width\",\n      \"properties\": {\n        \"dtype\": \"number\",\n        \"std\": 57.05631291349402,\n        \"min\": 2.1452038526871817,\n        \"max\": 205.0,\n        \"num_unique_values\": 8,\n        \"samples\": [\n          65.90780487804878,\n          65.5,\n          205.0\n        ],\n        \"semantic_type\": \"\",\n        \"description\": \"\"\n      }\n    },\n    {\n      \"column\": \"height\",\n      \"properties\": {\n        \"dtype\": \"number\",\n        \"std\": 58.952696962027126,\n        \"min\": 2.4435219699049044,\n        \"max\": 205.0,\n        \"num_unique_values\": 8,\n        \"samples\": [\n          53.72487804878049,\n          54.1,\n          205.0\n        ],\n        \"semantic_type\": \"\",\n        \"description\": \"\"\n      }\n    },\n    {\n      \"column\": \"curb-weight\",\n      \"properties\": {\n        \"dtype\": \"number\",\n        \"std\": 1270.6950351955225,\n        \"min\": 205.0,\n        \"max\": 4066.0,\n        \"num_unique_values\": 8,\n        \"samples\": [\n          2555.5658536585365,\n          2414.0,\n          205.0\n        ],\n        \"semantic_type\": \"\",\n        \"description\": \"\"\n      }\n    },\n    {\n      \"column\": \"engine-size\",\n      \"properties\": {\n        \"dtype\": \"number\",\n        \"std\": 90.36221973782494,\n        \"min\": 41.642693438179826,\n        \"max\": 326.0,\n        \"num_unique_values\": 8,\n        \"samples\": [\n          126.90731707317073,\n          120.0,\n          205.0\n        ],\n        \"semantic_type\": \"\",\n        \"description\": \"\"\n      }\n    },\n    {\n      \"column\": \"bore\",\n      \"properties\": {\n        \"dtype\": \"number\",\n        \"std\": 70.05652052333333,\n        \"min\": 0.2735387318295989,\n        \"max\": 201.0,\n        \"num_unique_values\": 8,\n        \"samples\": [\n          3.3297512437810943,\n          3.31,\n          201.0\n        ],\n        \"semantic_type\": \"\",\n        \"description\": \"\"\n      }\n    },\n    {\n      \"column\": \"stroke\",\n      \"properties\": {\n        \"dtype\": \"number\",\n        \"std\": 70.08283882779804,\n        \"min\": 0.31671745337703117,\n        \"max\": 201.0,\n        \"num_unique_values\": 8,\n        \"samples\": [\n          3.255422885572139,\n          3.29,\n          201.0\n        ],\n        \"semantic_type\": \"\",\n        \"description\": \"\"\n      }\n    },\n    {\n      \"column\": \"compression-ratio\",\n      \"properties\": {\n        \"dtype\": \"number\",\n        \"std\": 69.11177355262139,\n        \"min\": 3.972040321863297,\n        \"max\": 205.0,\n        \"num_unique_values\": 8,\n        \"samples\": [\n          10.142536585365855,\n          9.0,\n          205.0\n        ],\n        \"semantic_type\": \"\",\n        \"description\": \"\"\n      }\n    },\n    {\n      \"column\": \"horsepower\",\n      \"properties\": {\n        \"dtype\": \"number\",\n        \"std\": 84.62495454034945,\n        \"min\": 39.71436878679359,\n        \"max\": 288.0,\n        \"num_unique_values\": 8,\n        \"samples\": [\n          104.25615763546799,\n          95.0,\n          203.0\n        ],\n        \"semantic_type\": \"\",\n        \"description\": \"\"\n      }\n    },\n    {\n      \"column\": \"peak-rpm\",\n      \"properties\": {\n        \"dtype\": \"number\",\n        \"std\": 2366.1552400363316,\n        \"min\": 203.0,\n        \"max\": 6600.0,\n        \"num_unique_values\": 8,\n        \"samples\": [\n          5125.369458128079,\n          5200.0,\n          203.0\n        ],\n        \"semantic_type\": \"\",\n        \"description\": \"\"\n      }\n    },\n    {\n      \"column\": \"city-mpg\",\n      \"properties\": {\n        \"dtype\": \"number\",\n        \"std\": 65.28506994468985,\n        \"min\": 6.54214165300162,\n        \"max\": 205.0,\n        \"num_unique_values\": 8,\n        \"samples\": [\n          25.21951219512195,\n          24.0,\n          205.0\n        ],\n        \"semantic_type\": \"\",\n        \"description\": \"\"\n      }\n    },\n    {\n      \"column\": \"highway-mpg\",\n      \"properties\": {\n        \"dtype\": \"number\",\n        \"std\": 64.0390049599267,\n        \"min\": 6.88644313094182,\n        \"max\": 205.0,\n        \"num_unique_values\": 8,\n        \"samples\": [\n          30.75121951219512,\n          30.0,\n          205.0\n        ],\n        \"semantic_type\": \"\",\n        \"description\": \"\"\n      }\n    },\n    {\n      \"column\": \"price\",\n      \"properties\": {\n        \"dtype\": \"number\",\n        \"std\": 13873.905956718689,\n        \"min\": 201.0,\n        \"max\": 45400.0,\n        \"num_unique_values\": 8,\n        \"samples\": [\n          13207.129353233831,\n          10295.0,\n          201.0\n        ],\n        \"semantic_type\": \"\",\n        \"description\": \"\"\n      }\n    }\n  ]\n}"
            }
          },
          "metadata": {},
          "execution_count": 19
        }
      ]
    },
    {
      "cell_type": "code",
      "source": [
        "#Determinar mediante la regla de sturges la cantidad optima de bins o separadores\n",
        "n = len(autos)\n",
        "k= int (1+ math.log2(n))\n",
        "print ( \" Valor de n = \", n , \"\\n Número de intervalos = \", k)"
      ],
      "metadata": {
        "colab": {
          "base_uri": "https://localhost:8080/"
        },
        "id": "axrWqGoIGBNP",
        "outputId": "56d1c53e-7c7f-49bd-d79b-c8c7d0a38b77"
      },
      "execution_count": null,
      "outputs": [
        {
          "output_type": "stream",
          "name": "stdout",
          "text": [
            " Valor de n =  205 \n",
            " Número de intervalos =  8\n"
          ]
        }
      ]
    },
    {
      "cell_type": "code",
      "source": [
        "#Realizar un Histograma de precios de los automóviles\n",
        "plt.hist(autos.price, bins=8, alpha=0.2, color='b', edgecolor = \"black\")\n",
        "plt.axvline(media, color='b', linestyle= 'dashed', linewidth=2, label = 'Media')\n",
        "plt.axvline(mediana, color='r', linestyle= 'dashed', linewidth=2, label = 'Mediana')\n",
        "plt.axvline(moda, color='y', linestyle= 'dashed', linewidth=2, label = 'Moda')\n",
        "plt.legend()\n",
        "plt.xlabel('Precio')\n",
        "plt.ylabel('Frecuencia')\n",
        "plt.title('Histograma de precios de los autos')\n",
        "plt.show()"
      ],
      "metadata": {
        "colab": {
          "base_uri": "https://localhost:8080/",
          "height": 472
        },
        "id": "IFzMFwOHOSKD",
        "outputId": "408a48b8-e136-412d-d55f-dfc4d588ac40"
      },
      "execution_count": 37,
      "outputs": [
        {
          "output_type": "display_data",
          "data": {
            "text/plain": [
              "<Figure size 640x480 with 1 Axes>"
            ],
            "image/png": "[encoded data removed]"
          },
          "metadata": {}
        }
      ]
    },
    {
      "cell_type": "code",
      "source": [
        "#Realizar un diagrama de caja y bigotes que muestre la relación estadística entre la columna del precio del automóvil (price) y tipo de vehículo (body style)\n",
        "sns.boxplot(x=autos['body-style'], y=autos['price'])"
      ],
      "metadata": {
        "colab": {
          "base_uri": "https://localhost:8080/",
          "height": 466
        },
        "id": "6wIqzvoWb3d5",
        "outputId": "0cd95870-d0bb-411f-9d80-b8fd80c82654"
      },
      "execution_count": 42,
      "outputs": [
        {
          "output_type": "execute_result",
          "data": {
            "text/plain": [
              "<Axes: xlabel='body-style', ylabel='price'>"
            ]
          },
          "metadata": {},
          "execution_count": 42
        },
        {
          "output_type": "display_data",
          "data": {
            "text/plain": [
              "<Figure size 640x480 with 1 Axes>"
            ],
            "image/png": "[encoded data removed]"
          },
          "metadata": {}
        }
      ]
    },
    {
      "cell_type": "code",
      "source": [
        "#Realizar un diagrama de caja y bigotes que muestre la relación estadística entre la columna del precio del automóvil (price) y tipo tracción ruedas (drive wheels)\n",
        "sns.boxplot(x=autos['drive-wheels'], y=autos['price'])"
      ],
      "metadata": {
        "colab": {
          "base_uri": "https://localhost:8080/",
          "height": 466
        },
        "id": "kZDXQF4gc0st",
        "outputId": "a2eb7007-f5ee-408c-de18-16800cebc3b8"
      },
      "execution_count": 43,
      "outputs": [
        {
          "output_type": "execute_result",
          "data": {
            "text/plain": [
              "<Axes: xlabel='drive-wheels', ylabel='price'>"
            ]
          },
          "metadata": {},
          "execution_count": 43
        },
        {
          "output_type": "display_data",
          "data": {
            "text/plain": [
              "<Figure size 640x480 with 1 Axes>"
            ],
            "image/png": "[encoded data removed]"
          },
          "metadata": {}
        }
      ]
    },
    {
      "cell_type": "code",
      "source": [
        "#Realizar un diagrama de caja y bigotes que muestre la relación estadística entre la columna del precio del automóvil (price) y la ubicación del motor (engine-location)\n",
        "sns.boxplot(x=autos['engine-location'], y=autos['price'])"
      ],
      "metadata": {
        "id": "4y9xP3gTOR-t"
      },
      "execution_count": null,
      "outputs": []
    }
  ]
}