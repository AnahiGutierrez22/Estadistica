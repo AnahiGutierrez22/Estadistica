{
  "nbformat": 4,
  "nbformat_minor": 0,
  "metadata": {
    "colab": {
      "provenance": [],
      "authorship_tag": "ABX9TyOEXgmvfn/qgnhynXBkHRot",
      "include_colab_link": true
    },
    "kernelspec": {
      "name": "python3",
      "display_name": "Python 3"
    },
    "language_info": {
      "name": "python"
    }
  },
  "cells": [
    {
      "cell_type": "markdown",
      "metadata": {
        "id": "view-in-github",
        "colab_type": "text"
      },
      "source": [
        "<a href=\"https://colab.research.google.com/github/AnahiGutierrez22/Estadistica/blob/main/Unidad1/Practica3.ipynb\" target=\"_parent\"><img src=\"https://colab.research.google.com/assets/colab-badge.svg\" alt=\"Open In Colab\"/></a>"
      ]
    },
    {
      "cell_type": "markdown",
      "source": [
        "\n",
        "Probabilidad y etsadistica\n",
        "\n",
        "Unidad 1\n",
        "\n",
        "Practica 3. Maximo, mínimo, rango y dispersión de datos\n",
        "\n",
        "Facilitador: Dr. José Gabriel Rodriguez Rivas\n"
      ],
      "metadata": {
        "id": "_8otiUudDwJh"
      }
    },
    {
      "cell_type": "code",
      "execution_count": 2,
      "metadata": {
        "id": "Rm3_n6koDFyD"
      },
      "outputs": [],
      "source": [
        "import random\n",
        "import matplotlib.pyplot as plt\n",
        "from statistics import *"
      ]
    },
    {
      "cell_type": "code",
      "source": [
        "fabrica1 = []\n",
        "for i in range (100):\n",
        "  numero_aleatorio = round(random.uniform(50,100),2)\n",
        "  fabrica1.append(numero_aleatorio)\n",
        "print (fabrica1)"
      ],
      "metadata": {
        "colab": {
          "base_uri": "https://localhost:8080/"
        },
        "id": "eyqUeCwEEyOz",
        "outputId": "92e6d42b-58dc-43cd-8c8d-de2547e6f868"
      },
      "execution_count": 3,
      "outputs": [
        {
          "output_type": "stream",
          "name": "stdout",
          "text": [
            "[88.01, 67.37, 75.78, 85.31, 99.78, 54.35, 73.83, 66.56, 77.4, 79.09, 89.21, 53.02, 89.8, 58.53, 61.2, 54.48, 80.96, 68.89, 79.2, 90.86, 98.82, 88.22, 83.95, 71.95, 95.93, 86.38, 66.73, 63.89, 71.2, 54.54, 59.8, 82.72, 83.34, 53.89, 79.65, 53.31, 85.92, 83.56, 99.08, 63.51, 54.53, 89.21, 75.38, 53.62, 64.4, 81.14, 86.82, 71.9, 76.25, 71.83, 95.55, 92.26, 99.39, 78.95, 73.54, 65.04, 53.62, 88.39, 53.76, 98.47, 97.11, 92.82, 59.97, 68.59, 59.6, 88.85, 64.57, 66.71, 84.47, 94.25, 82.81, 52.33, 79.98, 85.61, 51.72, 68.67, 85.66, 85.66, 71.72, 72.58, 52.26, 52.33, 74.53, 51.85, 56.16, 73.03, 50.61, 91.68, 68.76, 55.32, 76.07, 86.71, 59.83, 96.74, 63.17, 72.07, 68.01, 74.07, 63.24, 87.91]\n"
          ]
        }
      ]
    },
    {
      "cell_type": "code",
      "source": [
        "fabrica2 = []\n",
        "for i in range (100):\n",
        "  numero_aleatorio = round(random.uniform(50,100),2)\n",
        "  fabrica2.append(numero_aleatorio)\n",
        "print (fabrica2)"
      ],
      "metadata": {
        "colab": {
          "base_uri": "https://localhost:8080/"
        },
        "id": "SEXcnyarFUjU",
        "outputId": "a4bd18bc-e686-4723-f10e-cc0c7134b51e"
      },
      "execution_count": 4,
      "outputs": [
        {
          "output_type": "stream",
          "name": "stdout",
          "text": [
            "[82.19, 71.04, 69.97, 93.09, 87.86, 99.3, 56.62, 91.49, 87.13, 60.14, 95.21, 90.01, 91.73, 76.91, 72.43, 94.25, 68.28, 76.55, 72.77, 61.87, 99.1, 53.72, 77.34, 82.94, 99.54, 76.53, 84.82, 95.93, 79.24, 93.38, 71.75, 91.77, 71.85, 70.57, 53.7, 64.9, 75.17, 84.77, 99.08, 81.23, 71.28, 87.37, 60.59, 65.25, 82.36, 75.08, 81.95, 67.78, 68.57, 90.27, 53.11, 94.7, 80.24, 55.06, 78.08, 71.49, 71.48, 68.89, 83.77, 98.64, 61.64, 50.07, 60.23, 55.38, 82.76, 87.22, 70.3, 88.42, 81.53, 98.07, 74.25, 56.53, 95.7, 85.86, 87.44, 79.32, 56.14, 99.35, 62.63, 54.82, 79.17, 85.8, 57.2, 86.15, 63.04, 87.6, 99.83, 78.79, 93.55, 52.78, 69.8, 68.65, 60.55, 83.54, 61.61, 57.24, 72.91, 67.75, 79.72, 86.52]\n"
          ]
        }
      ]
    },
    {
      "cell_type": "code",
      "source": [
        "# Maximo, mínimo y rango\n",
        "maximo1 = max(fabrica1)\n",
        "minimo1 = min(fabrica1)\n",
        "rango1 = maximo1-minimo1\n",
        "media1 =mean(fabrica1)\n",
        "mediana1= median(fabrica1)\n",
        "moda1 = mode(fabrica1)\n",
        "\n",
        "print( \"Estadistica descriptiva de la fabrica 1 \\n\", \"Media =\", media1,\n",
        "      \"\\n Mediana = \", mediana1, \"\\n Moda = \", moda1, \"\\n Maximo = \", maximo1,\n",
        "      \"\\n Minimo = \", minimo1, \"\\n Rango = \", rango1)"
      ],
      "metadata": {
        "colab": {
          "base_uri": "https://localhost:8080/"
        },
        "id": "S5xc-2TdGBdH",
        "outputId": "053a17e5-baf1-4ec2-8a69-db93b10aa249"
      },
      "execution_count": 6,
      "outputs": [
        {
          "output_type": "stream",
          "name": "stdout",
          "text": [
            "Estadistica descriptiva de la fabrica 1 \n",
            " Media = 74.321 \n",
            " Mediana =  73.94999999999999 \n",
            " Moda =  89.21 \n",
            " Maximo =  99.78 \n",
            " Minimo =  50.61 \n",
            " Rango =  49.17\n"
          ]
        }
      ]
    },
    {
      "cell_type": "code",
      "source": [
        "maximo2 = max(fabrica2)\n",
        "minimo2 = min(fabrica2)\n",
        "rango2 = maximo2-minimo2\n",
        "media2=mean(fabrica2)\n",
        "mediana2= median(fabrica2)\n",
        "moda2 = mode(fabrica2)\n",
        "\n",
        "print( \"Estadistica descriptiva de la fabrica 2 \\n\", \"Media =\", media2,\n",
        "      \"\\n Mediana = \", mediana2, \"\\n Moda = \", moda2, \"\\n Maximo = \", maximo2,\n",
        "      \"\\n Minimo = \", minimo2, \"\\n Rango = \", rango2)"
      ],
      "metadata": {
        "colab": {
          "base_uri": "https://localhost:8080/"
        },
        "id": "an1IKUOHIxH0",
        "outputId": "bb833dc9-a694-4cf6-ca51-f0479ea2dcb2"
      },
      "execution_count": 7,
      "outputs": [
        {
          "output_type": "stream",
          "name": "stdout",
          "text": [
            "Estadistica descriptiva de la fabrica 2 \n",
            " Media = 76.9199 \n",
            " Mediana =  77.71000000000001 \n",
            " Moda =  82.19 \n",
            " Maximo =  99.83 \n",
            " Minimo =  50.07 \n",
            " Rango =  49.76\n"
          ]
        }
      ]
    },
    {
      "cell_type": "code",
      "source": [
        "#  dispersion de los datos\n",
        "desviacion_estandar_fabrica1 =stdev(fabrica1)\n",
        "print (desviacion_estandar_fabrica1)"
      ],
      "metadata": {
        "colab": {
          "base_uri": "https://localhost:8080/"
        },
        "id": "MqeXmXYEKmlf",
        "outputId": "799ae5b0-f2b1-4644-e69e-8f3b34537ef8"
      },
      "execution_count": 8,
      "outputs": [
        {
          "output_type": "stream",
          "name": "stdout",
          "text": [
            "14.385227095387078\n"
          ]
        }
      ]
    },
    {
      "cell_type": "code",
      "source": [
        "desviacion_estandar_fabrica2 =stdev(fabrica2)\n",
        "print (desviacion_estandar_fabrica2)"
      ],
      "metadata": {
        "colab": {
          "base_uri": "https://localhost:8080/"
        },
        "id": "c8kQQANHK3z1",
        "outputId": "1831bd31-f149-4101-eb0e-a74077a3191a"
      },
      "execution_count": 9,
      "outputs": [
        {
          "output_type": "stream",
          "name": "stdout",
          "text": [
            "13.762906045533473\n"
          ]
        }
      ]
    },
    {
      "cell_type": "code",
      "source": [
        "plt.figure(figsize= (8,6))\n",
        "plt.hist(fabrica1, bins=10, alpha=0.2, color = 'b', edgecolor = \"black\")\n",
        "plt.axvline(media1, color= 'b', linestyle='dashed', linewidth=2, label=f'Media = {media1:.2f}')\n",
        "plt.axvline(mediana1, color= 'r', linestyle='dashed', linewidth=2, label=f' mediana = {mediana1:.2f}')\n",
        "plt.axvline(moda1, color= 'y', linestyle='dashed', linewidth=2, label=f' moda = {moda1:.2f}')\n",
        "plt.axvline(media1 - desviacion_estandar_fabrica1, color = \"black\", linestyle= 'dashed',\n",
        "           linewidth= 2, label=f' desv. Estandar = {desviacion_estandar_fabrica1:.2f}')\n",
        "plt.axvline(media1 + desviacion_estandar_fabrica1, color = \"black\", linestyle= 'dashed',\n",
        "           linewidth= 2)\n",
        "plt.xlabel (' valor')\n",
        "plt.ylabel(' Frecuencia ')\n",
        "plt.title(\"Produccion diaria de la fabrica 1\")\n",
        "plt.legend()\n",
        "plt.show()"
      ],
      "metadata": {
        "colab": {
          "base_uri": "https://localhost:8080/",
          "height": 564
        },
        "id": "g7cJvtEALnqG",
        "outputId": "cbab2a9e-1206-4222-e64a-23066b949644"
      },
      "execution_count": 14,
      "outputs": [
        {
          "output_type": "display_data",
          "data": {
            "text/plain": [
              "<Figure size 800x600 with 1 Axes>"
            ],
            "image/png": "[encoded data removed]"
          },
          "metadata": {}
        }
      ]
    },
    {
      "cell_type": "code",
      "source": [
        "plt.figure(figsize= (8,6))\n",
        "plt.hist(fabrica2, bins=10, alpha=0.2, color = 'b', edgecolor = \"black\")\n",
        "plt.axvline(media1, color= 'b', linestyle='dashed', linewidth=2, label=f'Media = {media1:.2f}')\n",
        "plt.axvline(mediana1, color= 'r', linestyle='dashed', linewidth=2, label=f' mediana = {mediana1:.2f}')\n",
        "plt.axvline(moda1, color= 'y', linestyle='dashed', linewidth=2, label=f' moda = {moda1:.2f}')\n",
        "plt.axvline(media1 - desviacion_estandar_fabrica1, color = \"black\", linestyle= 'dashed',\n",
        "           linewidth= 2, label=f' desv. Estandar = {desviacion_estandar_fabrica1:.2f}')\n",
        "plt.axvline(media1 + desviacion_estandar_fabrica1, color = \"black\", linestyle= 'dashed',\n",
        "           linewidth= 2)\n",
        "plt.xlabel (' valor')\n",
        "plt.ylabel(' Frecuencia ')\n",
        "plt.title(\"Produccion diaria de la fabrica 1\")\n",
        "plt.legend()\n",
        "plt.show()"
      ],
      "metadata": {
        "id": "GpZaZw9oO0FR"
      },
      "execution_count": null,
      "outputs": []
    }
  ]
}