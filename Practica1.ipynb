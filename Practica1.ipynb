{
  "nbformat": 4,
  "nbformat_minor": 0,
  "metadata": {
    "colab": {
      "provenance": [],
      "authorship_tag": "ABX9TyMyvO6gD1wXguXF0Yfh+WvF",
      "include_colab_link": true
    },
    "kernelspec": {
      "name": "python3",
      "display_name": "Python 3"
    },
    "language_info": {
      "name": "python"
    }
  },
  "cells": [
    {
      "cell_type": "markdown",
      "metadata": {
        "id": "view-in-github",
        "colab_type": "text"
      },
      "source": [
        "<a href=\"https://colab.research.google.com/github/AnahiGutierrez22/Estadistica/blob/main/Practica1.ipynb\" target=\"_parent\"><img src=\"https://colab.research.google.com/assets/colab-badge.svg\" alt=\"Open In Colab\"/></a>"
      ]
    },
    {
      "cell_type": "code",
      "execution_count": null,
      "metadata": {
        "id": "mCou9yUjS4sG"
      },
      "outputs": [],
      "source": []
    },
    {
      "cell_type": "markdown",
      "source": [
        "Probabilidad y estadistica\n",
        "\n",
        "Unidad 1\n",
        "\n",
        "practica 1. Estadistica descriptiva basica e histogramas\n",
        "Facilitador: Dr. Jose Gabriel\n",
        "Alumno : Anahi Gutierrez López"
      ],
      "metadata": {
        "id": "32VIclVaTKAb"
      }
    },
    {
      "cell_type": "code",
      "source": [
        "from statistics import *\n",
        "# Lista de calificaciones de grupo a de probabilidad y estadistica\n",
        "grupoa= [70, 70, 65, 90, 100, 95, 45, 80, 73, 20, 100,96]\n",
        "print (grupoa)"
      ],
      "metadata": {
        "colab": {
          "base_uri": "https://localhost:8080/"
        },
        "id": "96AJEz4VTmL9",
        "outputId": "fd52b288-61da-48df-e4e6-80b00e16b4bb"
      },
      "execution_count": 5,
      "outputs": [
        {
          "output_type": "stream",
          "name": "stdout",
          "text": [
            "[70, 70, 65, 90, 100, 95, 45, 80, 73, 20, 100, 96]\n"
          ]
        }
      ]
    },
    {
      "cell_type": "code",
      "source": [
        "type (grupoa)"
      ],
      "metadata": {
        "id": "bq7zqg-fUofR"
      },
      "execution_count": null,
      "outputs": []
    },
    {
      "cell_type": "code",
      "source": [
        "# determinar la media\n",
        "# la funcion \"len# da la longitud de los datos\n",
        "promedio= sum(grupoa)/ len(grupoa)\n",
        "print (promedio)"
      ],
      "metadata": {
        "colab": {
          "base_uri": "https://localhost:8080/"
        },
        "id": "daiEv8YKUwR-",
        "outputId": "1cec6d35-1385-4649-f228-11afc32fa75b"
      },
      "execution_count": 6,
      "outputs": [
        {
          "output_type": "stream",
          "name": "stdout",
          "text": [
            "75.33333333333333\n"
          ]
        }
      ]
    },
    {
      "cell_type": "code",
      "source": [
        "#Funcion \"mean\" para calcular el promedio, esta funcion se encuentra en la libreria statistics\n",
        "promedio2= mean(grupoa)\n",
        "print (promedio2)"
      ],
      "metadata": {
        "id": "jYLYS-0MVYhR"
      },
      "execution_count": null,
      "outputs": []
    },
    {
      "cell_type": "code",
      "source": [
        "# determinar la mediana con la funcion median\n",
        "mediana = median(grupoa)\n",
        "print (mediana)"
      ],
      "metadata": {
        "colab": {
          "base_uri": "https://localhost:8080/"
        },
        "id": "eHvjqZvcV0F3",
        "outputId": "dc9c65bc-092f-4971-c6d9-0e044ae3f7a8"
      },
      "execution_count": 8,
      "outputs": [
        {
          "output_type": "stream",
          "name": "stdout",
          "text": [
            "76.5\n"
          ]
        }
      ]
    },
    {
      "cell_type": "code",
      "source": [
        "#  Determinar el vlaor de la moda con la funcion mode\n",
        "moda = mode(grupoa)\n",
        "print (moda)\n"
      ],
      "metadata": {
        "colab": {
          "base_uri": "https://localhost:8080/"
        },
        "id": "NpDgDUCNXVRr",
        "outputId": "936e0f75-bf8f-44a7-bb62-16c974ae0dfa"
      },
      "execution_count": 9,
      "outputs": [
        {
          "output_type": "stream",
          "name": "stdout",
          "text": [
            "70\n"
          ]
        }
      ]
    },
    {
      "cell_type": "code",
      "source": [
        "#  En caso de que exista mas de una moda, se puede emplear la funcion multimode para sacar las multiples modas que puedan existir\n",
        "moda2= multimode(grupoa)\n",
        "print (moda2)"
      ],
      "metadata": {
        "colab": {
          "base_uri": "https://localhost:8080/"
        },
        "id": "35W6lsssXrPj",
        "outputId": "f4e2957d-2d7e-4a7c-b296-65c867995ffd"
      },
      "execution_count": 10,
      "outputs": [
        {
          "output_type": "stream",
          "name": "stdout",
          "text": [
            "[70, 100]\n"
          ]
        }
      ]
    },
    {
      "cell_type": "code",
      "source": [
        "# tiempos de 10 alumnos que van a correr 100 metros\n",
        "tiempos100mts= [15.10, 17.20, 14.69, 13.27, 22.15, 18.71, 19.15, 20.65, 15.10, 17.20]\n",
        "# imprimir\n",
        "print (tiempos100mts)"
      ],
      "metadata": {
        "colab": {
          "base_uri": "https://localhost:8080/"
        },
        "id": "OAZ3X5EvYeoZ",
        "outputId": "c57dbb74-dbb7-4ef9-b59a-f9cb9334211f"
      },
      "execution_count": 11,
      "outputs": [
        {
          "output_type": "stream",
          "name": "stdout",
          "text": [
            "[15.1, 17.2, 14.69, 13.27, 22.15, 18.71, 19.15, 20.65, 15.1, 17.2]\n"
          ]
        }
      ]
    },
    {
      "cell_type": "code",
      "source": [
        "# Usamos la funcion mean para determinar el tiempo promedio de la lista de valores\n",
        "print (\"El tiempo promedio de los corredores es = \", mean (tiempos100mts))"
      ],
      "metadata": {
        "colab": {
          "base_uri": "https://localhost:8080/"
        },
        "id": "114L4bpZZf79",
        "outputId": "8045c412-2b17-447c-9626-90bfcedda2b7"
      },
      "execution_count": 13,
      "outputs": [
        {
          "output_type": "stream",
          "name": "stdout",
          "text": [
            "El tiempo promedio de los corredores es =  17.322\n"
          ]
        }
      ]
    },
    {
      "cell_type": "code",
      "source": [
        "#  Usar la funcion median para sacar la mediana\n",
        "mediana= median( tiempos100mts)\n",
        "print (\"La media de los tiempos de los corredores es de = \", mediana)"
      ],
      "metadata": {
        "id": "U-shIyuXaDlA"
      },
      "execution_count": null,
      "outputs": []
    },
    {
      "cell_type": "code",
      "source": [
        "# Usar mode para calcular la moda\n",
        "moda = mode(tiempos100mts)\n",
        "print (\"La moda de los tiempos de los corredores es de = \", moda)"
      ],
      "metadata": {
        "colab": {
          "base_uri": "https://localhost:8080/"
        },
        "id": "tixriimFaoZX",
        "outputId": "507e50bb-083d-413f-ec94-da2ea7c7cc1d"
      },
      "execution_count": 15,
      "outputs": [
        {
          "output_type": "stream",
          "name": "stdout",
          "text": [
            "La moda de los tiempos de los corredores es de =  15.1\n"
          ]
        }
      ]
    },
    {
      "cell_type": "code",
      "source": [
        "multimodas = multimode(tiempos100mts)\n",
        "print (\"Las modas de los tiempos son = \", multimodas)"
      ],
      "metadata": {
        "id": "Zz574lzHayKN"
      },
      "execution_count": null,
      "outputs": []
    },
    {
      "cell_type": "code",
      "source": [
        "# libreria para generar numeros aleatorios\n",
        "import random"
      ],
      "metadata": {
        "id": "H2RfF8Z2bVZ1"
      },
      "execution_count": 25,
      "outputs": []
    },
    {
      "cell_type": "code",
      "source": [
        "fabrica1 = []\n",
        "for i in range (100):\n",
        "  numero_aleatorio1 = round( random.uniform(50, 100),2)\n",
        "  fabrica1.append(numero_aleatorio1)\n",
        "print (fabrica1)"
      ],
      "metadata": {
        "colab": {
          "base_uri": "https://localhost:8080/"
        },
        "id": "GfspzMeHbzaG",
        "outputId": "e95de991-b34b-440a-b83d-b3774b5d235b"
      },
      "execution_count": 26,
      "outputs": [
        {
          "output_type": "stream",
          "name": "stdout",
          "text": [
            "[77.25, 63.95, 78.26, 84.2, 91.29, 63.75, 55.31, 90.71, 78.33, 75.51, 66.47, 92.91, 93.76, 66.82, 60.71, 63.33, 64.73, 85.69, 55.07, 76.83, 51.02, 64.41, 77.35, 96.02, 69.26, 92.76, 93.91, 55.49, 84.8, 63.6, 80.79, 99.25, 53.73, 92.61, 90.12, 74.72, 82.66, 92.68, 86.86, 89.84, 62.11, 94.63, 78.19, 92.36, 96.01, 59.87, 64.32, 90.25, 68.35, 90.97, 53.07, 52.39, 88.22, 53.89, 55.99, 74.91, 76.45, 70.52, 55.04, 51.88, 97.48, 86.68, 86.55, 72.09, 87.24, 91.16, 70.66, 91.11, 56.37, 74.55, 98.21, 89.13, 63.43, 78.34, 60.48, 86.75, 52.97, 86.02, 69.93, 70.24, 84.05, 99.8, 90.59, 71.7, 88.17, 52.99, 72.73, 89.94, 67.64, 87.34, 56.18, 93.07, 66.31, 55.55, 71.64, 53.57, 76.94, 93.44, 91.29, 76.56]\n"
          ]
        }
      ]
    },
    {
      "cell_type": "code",
      "source": [
        "fabrica2 = []\n",
        "for i in range (100):\n",
        "  numero_aleatorio = round( random.uniform(50, 100),2)\n",
        "  fabrica2.append(numero_aleatorio)\n",
        "print (fabrica2)"
      ],
      "metadata": {
        "colab": {
          "base_uri": "https://localhost:8080/"
        },
        "id": "k2dzJpeldvRb",
        "outputId": "8114eebc-c0b5-4314-8b31-15bcb1a35eee"
      },
      "execution_count": 27,
      "outputs": [
        {
          "output_type": "stream",
          "name": "stdout",
          "text": [
            "[66.5, 76.84, 64.94, 99.86, 93.44, 88.4, 79.83, 67.61, 86.99, 85.98, 64.04, 97.38, 89.77, 89.97, 88.77, 65.9, 76.18, 66.88, 54.07, 87.34, 67.57, 91.11, 61.31, 64.11, 80.58, 50.63, 57.27, 74.21, 70.85, 55.62, 85.3, 74.14, 99.77, 92.0, 74.64, 94.77, 58.92, 76.01, 60.2, 91.87, 75.8, 77.87, 93.02, 74.41, 76.65, 88.62, 73.72, 72.25, 56.78, 87.44, 71.23, 97.11, 97.91, 74.78, 88.98, 53.19, 61.22, 71.02, 56.16, 98.54, 79.68, 93.82, 69.05, 50.48, 89.88, 66.7, 59.41, 94.9, 69.49, 95.95, 77.35, 59.21, 86.41, 99.29, 50.37, 58.46, 86.39, 97.71, 75.73, 97.72, 75.09, 56.29, 50.2, 65.43, 97.75, 53.76, 55.67, 61.55, 72.07, 54.05, 63.71, 83.98, 78.02, 86.11, 78.88, 97.11, 83.33, 53.67, 74.03, 85.99]\n"
          ]
        }
      ]
    },
    {
      "cell_type": "code",
      "source": [
        "# libreria de python\n",
        "import matplotlib.pyplot as plt"
      ],
      "metadata": {
        "id": "E6FqNITqeL9n"
      },
      "execution_count": 28,
      "outputs": []
    },
    {
      "cell_type": "code",
      "source": [
        "plt.hist(fabrica1)\n",
        "plt.title(\"Producción diaria de fabrica 1 \")"
      ],
      "metadata": {
        "colab": {
          "base_uri": "https://localhost:8080/",
          "height": 469
        },
        "id": "5iUYPRG9ePi4",
        "outputId": "b48aed95-3d5f-4e68-ac15-bdb87038f6ba"
      },
      "execution_count": 30,
      "outputs": [
        {
          "output_type": "execute_result",
          "data": {
            "text/plain": [
              "Text(0.5, 1.0, 'Producción diaria de fabrica 1 ')"
            ]
          },
          "metadata": {},
          "execution_count": 30
        },
        {
          "output_type": "display_data",
          "data": {
            "text/plain": [
              "<Figure size 640x480 with 1 Axes>"
            ],
            "image/png": "[encoded data removed]"
          },
          "metadata": {}
        }
      ]
    }
  ]
}