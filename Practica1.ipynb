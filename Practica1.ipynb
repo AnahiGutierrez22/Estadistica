{
  "nbformat": 4,
  "nbformat_minor": 0,
  "metadata": {
    "colab": {
      "provenance": [],
      "authorship_tag": "ABX9TyPxZradDbM3/RbK5xcQxWLs",
      "include_colab_link": true
    },
    "kernelspec": {
      "name": "python3",
      "display_name": "Python 3"
    },
    "language_info": {
      "name": "python"
    }
  },
  "cells": [
    {
      "cell_type": "markdown",
      "metadata": {
        "id": "view-in-github",
        "colab_type": "text"
      },
      "source": [
        "<a href=\"https://colab.research.google.com/github/AnahiGutierrez22/Estadistica/blob/main/Practica1.ipynb\" target=\"_parent\"><img src=\"https://colab.research.google.com/assets/colab-badge.svg\" alt=\"Open In Colab\"/></a>"
      ]
    },
    {
      "cell_type": "code",
      "execution_count": 48,
      "metadata": {
        "id": "mCou9yUjS4sG"
      },
      "outputs": [],
      "source": []
    },
    {
      "cell_type": "markdown",
      "source": [
        "Probabilidad y estadistica\n",
        "\n",
        "Unidad 1\n",
        "\n",
        "practica 1. Estadistica descriptiva basica e histogramas\n",
        "Facilitador: Dr. Jose Gabriel\n",
        "Alumno : Anahi Gutierrez López"
      ],
      "metadata": {
        "id": "32VIclVaTKAb"
      }
    },
    {
      "cell_type": "code",
      "source": [
        "from statistics import *\n",
        "# Lista de calificaciones de grupo a de probabilidad y estadistica\n",
        "grupoa= [70, 70, 65, 90, 100, 95, 45, 80, 73, 20, 100,96]\n",
        "print (grupoa)"
      ],
      "metadata": {
        "colab": {
          "base_uri": "https://localhost:8080/"
        },
        "id": "96AJEz4VTmL9",
        "outputId": "02dd237f-2bd9-49b3-bf4b-d0f14347f283"
      },
      "execution_count": 49,
      "outputs": [
        {
          "output_type": "stream",
          "name": "stdout",
          "text": [
            "[70, 70, 65, 90, 100, 95, 45, 80, 73, 20, 100, 96]\n"
          ]
        }
      ]
    },
    {
      "cell_type": "code",
      "source": [
        "type (grupoa)"
      ],
      "metadata": {
        "id": "bq7zqg-fUofR",
        "colab": {
          "base_uri": "https://localhost:8080/"
        },
        "outputId": "dfc0c4fa-40d4-4941-f93a-545458672722"
      },
      "execution_count": 50,
      "outputs": [
        {
          "output_type": "execute_result",
          "data": {
            "text/plain": [
              "list"
            ]
          },
          "metadata": {},
          "execution_count": 50
        }
      ]
    },
    {
      "cell_type": "code",
      "source": [
        "# determinar la media\n",
        "# la funcion \"len# da la longitud de los datos\n",
        "promedio= sum(grupoa)/ len(grupoa)\n",
        "print (promedio)"
      ],
      "metadata": {
        "colab": {
          "base_uri": "https://localhost:8080/"
        },
        "id": "daiEv8YKUwR-",
        "outputId": "8c2cebb8-305a-4972-e4d4-5cfcc8cb3a1f"
      },
      "execution_count": 51,
      "outputs": [
        {
          "output_type": "stream",
          "name": "stdout",
          "text": [
            "75.33333333333333\n"
          ]
        }
      ]
    },
    {
      "cell_type": "code",
      "source": [
        "#Funcion \"mean\" para calcular el promedio, esta funcion se encuentra en la libreria statistics\n",
        "promedio2= mean(grupoa)\n",
        "print (promedio2)"
      ],
      "metadata": {
        "id": "jYLYS-0MVYhR",
        "colab": {
          "base_uri": "https://localhost:8080/"
        },
        "outputId": "e6997804-15c4-423b-a65a-1af8825012d5"
      },
      "execution_count": 52,
      "outputs": [
        {
          "output_type": "stream",
          "name": "stdout",
          "text": [
            "75.33333333333333\n"
          ]
        }
      ]
    },
    {
      "cell_type": "code",
      "source": [
        "# determinar la mediana con la funcion median\n",
        "mediana = median(grupoa)\n",
        "print (mediana)"
      ],
      "metadata": {
        "colab": {
          "base_uri": "https://localhost:8080/"
        },
        "id": "eHvjqZvcV0F3",
        "outputId": "065fda6f-d43f-4d66-8ec2-fafbe27a8530"
      },
      "execution_count": 53,
      "outputs": [
        {
          "output_type": "stream",
          "name": "stdout",
          "text": [
            "76.5\n"
          ]
        }
      ]
    },
    {
      "cell_type": "code",
      "source": [
        "#  Determinar el vlaor de la moda con la funcion mode\n",
        "moda = mode(grupoa)\n",
        "print (moda)\n"
      ],
      "metadata": {
        "colab": {
          "base_uri": "https://localhost:8080/"
        },
        "id": "NpDgDUCNXVRr",
        "outputId": "dae7af06-8363-4f19-dea2-57647765216f"
      },
      "execution_count": 54,
      "outputs": [
        {
          "output_type": "stream",
          "name": "stdout",
          "text": [
            "70\n"
          ]
        }
      ]
    },
    {
      "cell_type": "code",
      "source": [
        "#  En caso de que exista mas de una moda, se puede emplear la funcion multimode para sacar las multiples modas que puedan existir\n",
        "moda2= multimode(grupoa)\n",
        "print (moda2)"
      ],
      "metadata": {
        "colab": {
          "base_uri": "https://localhost:8080/"
        },
        "id": "35W6lsssXrPj",
        "outputId": "3b66b2ba-9071-4bac-abb9-95d321017371"
      },
      "execution_count": 55,
      "outputs": [
        {
          "output_type": "stream",
          "name": "stdout",
          "text": [
            "[70, 100]\n"
          ]
        }
      ]
    },
    {
      "cell_type": "code",
      "source": [
        "# tiempos de 10 alumnos que van a correr 100 metros\n",
        "tiempos100mts= [15.10, 17.20, 14.69, 13.27, 22.15, 18.71, 19.15, 20.65, 15.10, 17.20]\n",
        "# imprimir\n",
        "print (tiempos100mts)"
      ],
      "metadata": {
        "colab": {
          "base_uri": "https://localhost:8080/"
        },
        "id": "OAZ3X5EvYeoZ",
        "outputId": "a745c838-774e-4cf1-86c1-b28c8851b89d"
      },
      "execution_count": 56,
      "outputs": [
        {
          "output_type": "stream",
          "name": "stdout",
          "text": [
            "[15.1, 17.2, 14.69, 13.27, 22.15, 18.71, 19.15, 20.65, 15.1, 17.2]\n"
          ]
        }
      ]
    },
    {
      "cell_type": "code",
      "source": [
        "# Usamos la funcion mean para determinar el tiempo promedio de la lista de valores\n",
        "print (\"El tiempo promedio de los corredores es = \", mean (tiempos100mts))"
      ],
      "metadata": {
        "colab": {
          "base_uri": "https://localhost:8080/"
        },
        "id": "114L4bpZZf79",
        "outputId": "b8bffc5e-3efe-466e-e8a0-5ec040cf2059"
      },
      "execution_count": 57,
      "outputs": [
        {
          "output_type": "stream",
          "name": "stdout",
          "text": [
            "El tiempo promedio de los corredores es =  17.322\n"
          ]
        }
      ]
    },
    {
      "cell_type": "code",
      "source": [
        "#  Usar la funcion median para sacar la mediana\n",
        "mediana= median( tiempos100mts)\n",
        "print (\"La media de los tiempos de los corredores es de = \", mediana)"
      ],
      "metadata": {
        "id": "U-shIyuXaDlA",
        "colab": {
          "base_uri": "https://localhost:8080/"
        },
        "outputId": "c1ca5ff2-ad1e-4818-fb8a-1f07a137741c"
      },
      "execution_count": 58,
      "outputs": [
        {
          "output_type": "stream",
          "name": "stdout",
          "text": [
            "La media de los tiempos de los corredores es de =  17.2\n"
          ]
        }
      ]
    },
    {
      "cell_type": "code",
      "source": [
        "# Usar mode para calcular la moda\n",
        "moda = mode(tiempos100mts)\n",
        "print (\"La moda de los tiempos de los corredores es de = \", moda)"
      ],
      "metadata": {
        "colab": {
          "base_uri": "https://localhost:8080/"
        },
        "id": "tixriimFaoZX",
        "outputId": "40489ce7-d385-45a9-dbe5-1858f9517839"
      },
      "execution_count": 59,
      "outputs": [
        {
          "output_type": "stream",
          "name": "stdout",
          "text": [
            "La moda de los tiempos de los corredores es de =  15.1\n"
          ]
        }
      ]
    },
    {
      "cell_type": "code",
      "source": [
        "multimodas = multimode(tiempos100mts)\n",
        "print (\"Las modas de los tiempos son = \", multimodas)"
      ],
      "metadata": {
        "id": "Zz574lzHayKN",
        "colab": {
          "base_uri": "https://localhost:8080/"
        },
        "outputId": "1a3c4b99-9399-4c0e-9baf-bb56ba2c78df"
      },
      "execution_count": 60,
      "outputs": [
        {
          "output_type": "stream",
          "name": "stdout",
          "text": [
            "Las modas de los tiempos son =  [15.1, 17.2]\n"
          ]
        }
      ]
    },
    {
      "cell_type": "code",
      "source": [
        "# libreria para generar numeros aleatorios\n",
        "import random"
      ],
      "metadata": {
        "id": "H2RfF8Z2bVZ1"
      },
      "execution_count": 61,
      "outputs": []
    },
    {
      "cell_type": "code",
      "source": [
        "fabrica1 = []\n",
        "for i in range (100):\n",
        "  numero_aleatorio1 = round( random.uniform(50, 100),2)\n",
        "  fabrica1.append(numero_aleatorio1)\n",
        "print (fabrica1)"
      ],
      "metadata": {
        "colab": {
          "base_uri": "https://localhost:8080/"
        },
        "id": "GfspzMeHbzaG",
        "outputId": "a405d789-48b9-4ba5-d99f-3b9c11850e07"
      },
      "execution_count": 62,
      "outputs": [
        {
          "output_type": "stream",
          "name": "stdout",
          "text": [
            "[82.18, 56.87, 66.57, 90.1, 97.37, 76.46, 95.43, 97.82, 88.23, 59.98, 93.45, 60.17, 68.25, 86.76, 65.4, 56.39, 67.01, 86.2, 69.3, 93.38, 54.26, 78.34, 53.92, 59.9, 98.5, 99.16, 96.04, 65.45, 85.21, 51.29, 86.72, 69.76, 62.82, 89.46, 78.19, 73.34, 73.02, 98.16, 92.84, 91.16, 68.18, 95.03, 99.4, 86.07, 73.65, 77.63, 73.86, 84.94, 64.98, 72.94, 81.62, 57.14, 63.54, 83.74, 89.65, 68.38, 63.79, 69.54, 93.97, 77.76, 82.1, 98.95, 98.76, 95.35, 85.63, 82.51, 55.1, 63.66, 99.76, 56.96, 80.22, 69.56, 56.32, 78.61, 88.81, 86.52, 58.69, 87.64, 88.25, 94.71, 56.24, 92.63, 66.95, 65.04, 97.65, 56.35, 64.17, 59.08, 77.09, 63.49, 82.41, 90.24, 90.9, 73.29, 70.98, 64.7, 74.82, 84.36, 55.6, 70.77]\n"
          ]
        }
      ]
    },
    {
      "cell_type": "code",
      "source": [
        "fabrica2 = []\n",
        "for i in range (100):\n",
        "  numero_aleatorio = round( random.uniform(50, 100),2)\n",
        "  fabrica2.append(numero_aleatorio)\n",
        "print (fabrica2)"
      ],
      "metadata": {
        "colab": {
          "base_uri": "https://localhost:8080/"
        },
        "id": "k2dzJpeldvRb",
        "outputId": "ae913aae-e7b8-4bb0-ec27-b581c11332a4"
      },
      "execution_count": 63,
      "outputs": [
        {
          "output_type": "stream",
          "name": "stdout",
          "text": [
            "[90.23, 75.99, 85.0, 98.48, 77.3, 65.15, 84.55, 68.23, 55.95, 83.11, 78.77, 87.7, 53.55, 70.7, 78.45, 95.78, 91.54, 77.07, 98.46, 58.79, 84.57, 80.05, 64.22, 52.24, 68.23, 78.88, 93.63, 55.73, 54.49, 86.95, 95.75, 60.6, 50.91, 71.47, 74.02, 79.9, 61.59, 87.73, 93.6, 55.65, 99.43, 60.1, 65.01, 57.23, 81.46, 63.05, 88.11, 98.4, 50.5, 56.77, 55.6, 58.03, 75.29, 50.9, 82.87, 77.35, 79.66, 58.59, 90.95, 50.54, 70.97, 71.3, 98.25, 86.56, 63.24, 71.86, 60.35, 93.94, 57.78, 68.87, 66.65, 92.18, 66.92, 54.24, 86.03, 57.1, 56.21, 63.62, 61.77, 51.04, 64.69, 94.22, 84.79, 58.02, 58.52, 92.43, 96.59, 88.34, 80.78, 94.67, 67.03, 57.57, 52.29, 93.44, 58.65, 64.42, 62.25, 56.17, 99.13, 83.72]\n"
          ]
        }
      ]
    },
    {
      "cell_type": "code",
      "source": [
        "# libreria de python\n",
        "import matplotlib.pyplot as plt"
      ],
      "metadata": {
        "id": "E6FqNITqeL9n"
      },
      "execution_count": 72,
      "outputs": []
    },
    {
      "cell_type": "code",
      "source": [
        "plt.hist(fabrica1)\n",
        "plt.title(\"Producción diaria de fabrica 1 \")"
      ],
      "metadata": {
        "colab": {
          "base_uri": "https://localhost:8080/",
          "height": 469
        },
        "id": "5iUYPRG9ePi4",
        "outputId": "5c395f65-f847-4889-b1ac-d94c4e2c3988"
      },
      "execution_count": 65,
      "outputs": [
        {
          "output_type": "execute_result",
          "data": {
            "text/plain": [
              "Text(0.5, 1.0, 'Producción diaria de fabrica 1 ')"
            ]
          },
          "metadata": {},
          "execution_count": 65
        },
        {
          "output_type": "display_data",
          "data": {
            "text/plain": [
              "<Figure size 640x480 with 1 Axes>"
            ],
            "image/png": "[encoded data removed]"
          },
          "metadata": {}
        }
      ]
    },
    {
      "cell_type": "code",
      "source": [
        "plt.hist(fabrica2)\n",
        "plt.title(\"Producción diaria de fabrica 2 \")"
      ],
      "metadata": {
        "colab": {
          "base_uri": "https://localhost:8080/",
          "height": 469
        },
        "id": "Q5-j-fg4cjmY",
        "outputId": "c5b34e85-2c11-432a-f0e9-6aaffd2acc15"
      },
      "execution_count": 66,
      "outputs": [
        {
          "output_type": "execute_result",
          "data": {
            "text/plain": [
              "Text(0.5, 1.0, 'Producción diaria de fabrica 2 ')"
            ]
          },
          "metadata": {},
          "execution_count": 66
        },
        {
          "output_type": "display_data",
          "data": {
            "text/plain": [
              "<Figure size 640x480 with 1 Axes>"
            ],
            "image/png": "[encoded data removed]"
          },
          "metadata": {}
        }
      ]
    },
    {
      "cell_type": "code",
      "source": [
        "media1= mean(fabrica1)\n",
        "mediana1= median(fabrica1)\n",
        "moda1= mode(fabrica1)\n",
        "print (\"Valores de la fabrica 1\")\n",
        "print (\"La media es :\", media1)\n",
        "print (\"La mediana es : \", mediana1)\n",
        "print (\"La moda es :\", moda1)"
      ],
      "metadata": {
        "colab": {
          "base_uri": "https://localhost:8080/"
        },
        "id": "mYfmvIjKdZ95",
        "outputId": "e25700c1-f3f3-49d7-97c9-a9254fe962cc"
      },
      "execution_count": 67,
      "outputs": [
        {
          "output_type": "stream",
          "name": "stdout",
          "text": [
            "Valores de la fabrica 1\n",
            "La media es : 77.2554\n",
            "La mediana es :  77.695\n",
            "La moda es : 82.18\n"
          ]
        }
      ]
    },
    {
      "cell_type": "code",
      "source": [
        "media2= mean(fabrica2)\n",
        "mediana2= median(fabrica2)\n",
        "moda2= mode(fabrica2)\n",
        "print (\"Valores de la fabrica 2\")\n",
        "print (\"La media es :\", media2)\n",
        "print (\"La mediana es : \", mediana2)\n",
        "print (\"La moda es :\", moda2)"
      ],
      "metadata": {
        "colab": {
          "base_uri": "https://localhost:8080/"
        },
        "id": "h0qgEi1cesu-",
        "outputId": "9666c01f-996a-45b9-ceac-9b282a1a5795"
      },
      "execution_count": 68,
      "outputs": [
        {
          "output_type": "stream",
          "name": "stdout",
          "text": [
            "Valores de la fabrica 2\n",
            "La media es : 73.3145\n",
            "La mediana es :  71.38499999999999\n",
            "La moda es : 68.23\n"
          ]
        }
      ]
    },
    {
      "cell_type": "code",
      "source": [
        "# generar dos subplot de 1 renglon por dos columnas para desplegar los 2 histogramas, una al lado de la otra\n",
        "fig, (ax1, ax2)=plt.subplots(nrows =1, ncols=2, figsize= (10,5))\n",
        "ax1.hist(fabrica1)\n",
        "ax2.hist(fabrica2)\n",
        "plt.show()"
      ],
      "metadata": {
        "colab": {
          "base_uri": "https://localhost:8080/",
          "height": 445
        },
        "id": "M85LEZH4ffLP",
        "outputId": "6aa98bca-6f2c-4a15-f688-d28a634e420d"
      },
      "execution_count": 70,
      "outputs": [
        {
          "output_type": "display_data",
          "data": {
            "text/plain": [
              "<Figure size 1000x500 with 2 Axes>"
            ],
            "image/png": "[encoded data removed]"
          },
          "metadata": {}
        }
      ]
    },
    {
      "cell_type": "code",
      "source": [
        "plt.hist(fabrica1, bins=10, alpha=0.2, color='b', edgecolor = \"black\")\n",
        "plt.axvline(media1, color='b', linestyle= 'dashed', linewidth=2, label = 'Media')\n",
        "plt.axvline(mediana1, color='r', linestyle= 'dashed', linewidth=2, label = 'Mediana')\n",
        "plt.axvline(moda1, color='y', linestyle= 'dashed', linewidth=2, label = 'Moda')\n",
        "plt.xlabel('Valor')\n",
        "plt.ylabel('Frecuencia')\n",
        "plt.title('Produccion diaria de la fabrica 1')\n",
        "plt.legend()\n",
        "plt.show()"
      ],
      "metadata": {
        "colab": {
          "base_uri": "https://localhost:8080/",
          "height": 472
        },
        "id": "Tr4Bn2oshX1q",
        "outputId": "f9ad87d9-faec-461f-fbca-807ea98f2a3f"
      },
      "execution_count": 79,
      "outputs": [
        {
          "output_type": "display_data",
          "data": {
            "text/plain": [
              "<Figure size 640x480 with 1 Axes>"
            ],
            "image/png": "[encoded data removed]"
          },
          "metadata": {}
        }
      ]
    },
    {
      "cell_type": "code",
      "source": [
        "plt.hist(fabrica2, bins=10, alpha=0.2, color='b', edgecolor = \"black\")\n",
        "plt.axvline(media2, color='b', linestyle= 'dashed', linewidth=2, label = 'Media')\n",
        "plt.axvline(mediana2, color='r', linestyle= 'dashed', linewidth=2, label = 'Mediana')\n",
        "plt.axvline(moda2, color='y', linestyle= 'dashed', linewidth=2, label = 'Moda')\n",
        "plt.xlabel('Valor')\n",
        "plt.ylabel('Frecuencia')\n",
        "plt.title('Produccion diaria de la fabrica 1')\n",
        "plt.legend()\n",
        "plt.show()"
      ],
      "metadata": {
        "colab": {
          "base_uri": "https://localhost:8080/",
          "height": 472
        },
        "id": "AgTSQhp9jxE9",
        "outputId": "8ffee48b-49d9-4e86-ffed-3c1643746fc1"
      },
      "execution_count": 81,
      "outputs": [
        {
          "output_type": "display_data",
          "data": {
            "text/plain": [
              "<Figure size 640x480 with 1 Axes>"
            ],
            "image/png": "[encoded data removed]"
          },
          "metadata": {}
        }
      ]
    }
  ]
}