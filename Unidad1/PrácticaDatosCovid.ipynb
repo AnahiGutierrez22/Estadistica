{
  "nbformat": 4,
  "nbformat_minor": 0,
  "metadata": {
    "colab": {
      "provenance": [],
      "authorship_tag": "ABX9TyP/B+bfbdWHJ4Ix3En9LYYO",
      "include_colab_link": true
    },
    "kernelspec": {
      "name": "python3",
      "display_name": "Python 3"
    },
    "language_info": {
      "name": "python"
    }
  },
  "cells": [
    {
      "cell_type": "markdown",
      "metadata": {
        "id": "view-in-github",
        "colab_type": "text"
      },
      "source": [
        "<a href=\"https://colab.research.google.com/github/AnahiGutierrez22/Estadistica/blob/main/Unidad1/Pr%C3%A1cticaDatosCovid.ipynb\" target=\"_parent\"><img src=\"https://colab.research.google.com/assets/colab-badge.svg\" alt=\"Open In Colab\"/></a>"
      ]
    },
    {
      "cell_type": "markdown",
      "source": [
        "#Probabilidad y estadistica\n",
        "Unidad 1\n",
        "\n",
        "Grupo: 2YY\n",
        "\n",
        "Anahí Gutiérrez López\n",
        "\n",
        "Practica Estadistica Descriptiva de Base de Datos COVID"
      ],
      "metadata": {
        "id": "jjkC_7AEIKB_"
      }
    },
    {
      "cell_type": "code",
      "execution_count": 55,
      "metadata": {
        "id": "OJG4AjxUHXV_"
      },
      "outputs": [],
      "source": [
        "import pandas as pd\n",
        "import matplotlib as plt\n",
        "import seaborn as sns\n",
        "from matplotlib import pyplot"
      ]
    },
    {
      "cell_type": "code",
      "source": [
        "# cargar el archivo CSV en una variable llamda covid\n",
        "covid = pd.read_csv(\"20-06-30-COVID19MEXICO - codificado.csv\", encoding = \"ISO-8859-1\")"
      ],
      "metadata": {
        "id": "QWDIvfrHLb6m"
      },
      "execution_count": 56,
      "outputs": []
    },
    {
      "cell_type": "code",
      "source": [
        "# mostramos los primeros 5 registros del archivo\n",
        "covid.head()"
      ],
      "metadata": {
        "id": "J3uNEA2CMpHY",
        "outputId": "73962e9e-a9ef-4443-c1d1-6790549e1ed6",
        "colab": {
          "base_uri": "https://localhost:8080/",
          "height": 342
        }
      },
      "execution_count": 57,
      "outputs": [
        {
          "output_type": "execute_result",
          "data": {
            "text/plain": [
              "   ï»¿ORIGEN  SECTOR    SEXO ENTIDAD_NAC  TIPO_PACIENTE FECHA_INGRESO  \\\n",
              "0          1       4  Hombre   Zacatecas  Hospitalizado    27/03/2020   \n",
              "1          1      12  Hombre   Zacatecas  Hospitalizado    06/04/2020   \n",
              "2          1      12   Mujer   Zacatecas  Hospitalizado    15/04/2020   \n",
              "3          2      12   Mujer   Zacatecas  Hospitalizado    08/05/2020   \n",
              "4          2      12   Mujer   Zacatecas  Hospitalizado    08/05/2020   \n",
              "\n",
              "  FECHA_SINTOMAS   FECHA_DEF INTUBADO NEUMONIA  ...  EPOC ASMA INMUSUPR  \\\n",
              "0     27/03/2020  9999-99-99       No       No  ...    No   No       No   \n",
              "1     02/04/2020  9999-99-99       No       Si  ...    No   No       No   \n",
              "2     12/04/2020  9999-99-99       No       Si  ...    No   No       Si   \n",
              "3     08/05/2020  9999-99-99       Si       No  ...    No   No       No   \n",
              "4     08/05/2020  9999-99-99       Si       No  ...    No   No       No   \n",
              "\n",
              "  HIPERTENSION CARDIOVASCULAR OBESIDAD RENAL_CRONICA TABAQUISMO RESULTADO UCI  \n",
              "0           No             No       No            No         No  Negativo  No  \n",
              "1           No             No       No            No         No  Negativo  No  \n",
              "2           No             No       No            No         No  Negativo  No  \n",
              "3           No             No       No            No         No  Negativo  Si  \n",
              "4           No             No       No            No         No  Negativo  Si  \n",
              "\n",
              "[5 rows x 23 columns]"
            ],
            "text/html": [
              "\n",
              "  <div id=\"df-44d82f52-adcf-447e-a3aa-ebf40566480a\" class=\"colab-df-container\">\n",
              "    <div>\n",
              "<style scoped>\n",
              "    .dataframe tbody tr th:only-of-type {\n",
              "        vertical-align: middle;\n",
              "    }\n",
              "\n",
              "    .dataframe tbody tr th {\n",
              "        vertical-align: top;\n",
              "    }\n",
              "\n",
              "    .dataframe thead th {\n",
              "        text-align: right;\n",
              "    }\n",
              "</style>\n",
              "<table border=\"1\" class=\"dataframe\">\n",
              "  <thead>\n",
              "    <tr style=\"text-align: right;\">\n",
              "      <th></th>\n",
              "      <th>ï»¿ORIGEN</th>\n",
              "      <th>SECTOR</th>\n",
              "      <th>SEXO</th>\n",
              "      <th>ENTIDAD_NAC</th>\n",
              "      <th>TIPO_PACIENTE</th>\n",
              "      <th>FECHA_INGRESO</th>\n",
              "      <th>FECHA_SINTOMAS</th>\n",
              "      <th>FECHA_DEF</th>\n",
              "      <th>INTUBADO</th>\n",
              "      <th>NEUMONIA</th>\n",
              "      <th>...</th>\n",
              "      <th>EPOC</th>\n",
              "      <th>ASMA</th>\n",
              "      <th>INMUSUPR</th>\n",
              "      <th>HIPERTENSION</th>\n",
              "      <th>CARDIOVASCULAR</th>\n",
              "      <th>OBESIDAD</th>\n",
              "      <th>RENAL_CRONICA</th>\n",
              "      <th>TABAQUISMO</th>\n",
              "      <th>RESULTADO</th>\n",
              "      <th>UCI</th>\n",
              "    </tr>\n",
              "  </thead>\n",
              "  <tbody>\n",
              "    <tr>\n",
              "      <th>0</th>\n",
              "      <td>1</td>\n",
              "      <td>4</td>\n",
              "      <td>Hombre</td>\n",
              "      <td>Zacatecas</td>\n",
              "      <td>Hospitalizado</td>\n",
              "      <td>27/03/2020</td>\n",
              "      <td>27/03/2020</td>\n",
              "      <td>9999-99-99</td>\n",
              "      <td>No</td>\n",
              "      <td>No</td>\n",
              "      <td>...</td>\n",
              "      <td>No</td>\n",
              "      <td>No</td>\n",
              "      <td>No</td>\n",
              "      <td>No</td>\n",
              "      <td>No</td>\n",
              "      <td>No</td>\n",
              "      <td>No</td>\n",
              "      <td>No</td>\n",
              "      <td>Negativo</td>\n",
              "      <td>No</td>\n",
              "    </tr>\n",
              "    <tr>\n",
              "      <th>1</th>\n",
              "      <td>1</td>\n",
              "      <td>12</td>\n",
              "      <td>Hombre</td>\n",
              "      <td>Zacatecas</td>\n",
              "      <td>Hospitalizado</td>\n",
              "      <td>06/04/2020</td>\n",
              "      <td>02/04/2020</td>\n",
              "      <td>9999-99-99</td>\n",
              "      <td>No</td>\n",
              "      <td>Si</td>\n",
              "      <td>...</td>\n",
              "      <td>No</td>\n",
              "      <td>No</td>\n",
              "      <td>No</td>\n",
              "      <td>No</td>\n",
              "      <td>No</td>\n",
              "      <td>No</td>\n",
              "      <td>No</td>\n",
              "      <td>No</td>\n",
              "      <td>Negativo</td>\n",
              "      <td>No</td>\n",
              "    </tr>\n",
              "    <tr>\n",
              "      <th>2</th>\n",
              "      <td>1</td>\n",
              "      <td>12</td>\n",
              "      <td>Mujer</td>\n",
              "      <td>Zacatecas</td>\n",
              "      <td>Hospitalizado</td>\n",
              "      <td>15/04/2020</td>\n",
              "      <td>12/04/2020</td>\n",
              "      <td>9999-99-99</td>\n",
              "      <td>No</td>\n",
              "      <td>Si</td>\n",
              "      <td>...</td>\n",
              "      <td>No</td>\n",
              "      <td>No</td>\n",
              "      <td>Si</td>\n",
              "      <td>No</td>\n",
              "      <td>No</td>\n",
              "      <td>No</td>\n",
              "      <td>No</td>\n",
              "      <td>No</td>\n",
              "      <td>Negativo</td>\n",
              "      <td>No</td>\n",
              "    </tr>\n",
              "    <tr>\n",
              "      <th>3</th>\n",
              "      <td>2</td>\n",
              "      <td>12</td>\n",
              "      <td>Mujer</td>\n",
              "      <td>Zacatecas</td>\n",
              "      <td>Hospitalizado</td>\n",
              "      <td>08/05/2020</td>\n",
              "      <td>08/05/2020</td>\n",
              "      <td>9999-99-99</td>\n",
              "      <td>Si</td>\n",
              "      <td>No</td>\n",
              "      <td>...</td>\n",
              "      <td>No</td>\n",
              "      <td>No</td>\n",
              "      <td>No</td>\n",
              "      <td>No</td>\n",
              "      <td>No</td>\n",
              "      <td>No</td>\n",
              "      <td>No</td>\n",
              "      <td>No</td>\n",
              "      <td>Negativo</td>\n",
              "      <td>Si</td>\n",
              "    </tr>\n",
              "    <tr>\n",
              "      <th>4</th>\n",
              "      <td>2</td>\n",
              "      <td>12</td>\n",
              "      <td>Mujer</td>\n",
              "      <td>Zacatecas</td>\n",
              "      <td>Hospitalizado</td>\n",
              "      <td>08/05/2020</td>\n",
              "      <td>08/05/2020</td>\n",
              "      <td>9999-99-99</td>\n",
              "      <td>Si</td>\n",
              "      <td>No</td>\n",
              "      <td>...</td>\n",
              "      <td>No</td>\n",
              "      <td>No</td>\n",
              "      <td>No</td>\n",
              "      <td>No</td>\n",
              "      <td>No</td>\n",
              "      <td>No</td>\n",
              "      <td>No</td>\n",
              "      <td>No</td>\n",
              "      <td>Negativo</td>\n",
              "      <td>Si</td>\n",
              "    </tr>\n",
              "  </tbody>\n",
              "</table>\n",
              "<p>5 rows × 23 columns</p>\n",
              "</div>\n",
              "    <div class=\"colab-df-buttons\">\n",
              "\n",
              "  <div class=\"colab-df-container\">\n",
              "    <button class=\"colab-df-convert\" onclick=\"convertToInteractive('df-44d82f52-adcf-447e-a3aa-ebf40566480a')\"\n",
              "            title=\"Convert this dataframe to an interactive table.\"\n",
              "            style=\"display:none;\">\n",
              "\n",
              "  <svg xmlns=\"http://www.w3.org/2000/svg\" height=\"24px\" viewBox=\"0 -960 960 960\">\n",
              "    <path d=\"M120-120v-720h720v720H120Zm60-500h600v-160H180v160Zm220 220h160v-160H400v160Zm0 220h160v-160H400v160ZM180-400h160v-160H180v160Zm440 0h160v-160H620v160ZM180-180h160v-160H180v160Zm440 0h160v-160H620v160Z\"/>\n",
              "  </svg>\n",
              "    </button>\n",
              "\n",
              "  <style>\n",
              "    .colab-df-container {\n",
              "      display:flex;\n",
              "      gap: 12px;\n",
              "    }\n",
              "\n",
              "    .colab-df-convert {\n",
              "      background-color: #E8F0FE;\n",
              "      border: none;\n",
              "      border-radius: 50%;\n",
              "      cursor: pointer;\n",
              "      display: none;\n",
              "      fill: #1967D2;\n",
              "      height: 32px;\n",
              "      padding: 0 0 0 0;\n",
              "      width: 32px;\n",
              "    }\n",
              "\n",
              "    .colab-df-convert:hover {\n",
              "      background-color: #E2EBFA;\n",
              "      box-shadow: 0px 1px 2px rgba(60, 64, 67, 0.3), 0px 1px 3px 1px rgba(60, 64, 67, 0.15);\n",
              "      fill: #174EA6;\n",
              "    }\n",
              "\n",
              "    .colab-df-buttons div {\n",
              "      margin-bottom: 4px;\n",
              "    }\n",
              "\n",
              "    [theme=dark] .colab-df-convert {\n",
              "      background-color: #3B4455;\n",
              "      fill: #D2E3FC;\n",
              "    }\n",
              "\n",
              "    [theme=dark] .colab-df-convert:hover {\n",
              "      background-color: #434B5C;\n",
              "      box-shadow: 0px 1px 3px 1px rgba(0, 0, 0, 0.15);\n",
              "      filter: drop-shadow(0px 1px 2px rgba(0, 0, 0, 0.3));\n",
              "      fill: #FFFFFF;\n",
              "    }\n",
              "  </style>\n",
              "\n",
              "    <script>\n",
              "      const buttonEl =\n",
              "        document.querySelector('#df-44d82f52-adcf-447e-a3aa-ebf40566480a button.colab-df-convert');\n",
              "      buttonEl.style.display =\n",
              "        google.colab.kernel.accessAllowed ? 'block' : 'none';\n",
              "\n",
              "      async function convertToInteractive(key) {\n",
              "        const element = document.querySelector('#df-44d82f52-adcf-447e-a3aa-ebf40566480a');\n",
              "        const dataTable =\n",
              "          await google.colab.kernel.invokeFunction('convertToInteractive',\n",
              "                                                    [key], {});\n",
              "        if (!dataTable) return;\n",
              "\n",
              "        const docLinkHtml = 'Like what you see? Visit the ' +\n",
              "          '<a target=\"_blank\" href=https://colab.research.google.com/notebooks/data_table.ipynb>data table notebook</a>'\n",
              "          + ' to learn more about interactive tables.';\n",
              "        element.innerHTML = '';\n",
              "        dataTable['output_type'] = 'display_data';\n",
              "        await google.colab.output.renderOutput(dataTable, element);\n",
              "        const docLink = document.createElement('div');\n",
              "        docLink.innerHTML = docLinkHtml;\n",
              "        element.appendChild(docLink);\n",
              "      }\n",
              "    </script>\n",
              "  </div>\n",
              "\n",
              "\n",
              "<div id=\"df-77e494e5-cefb-4591-b9bf-0c16fe44f81e\">\n",
              "  <button class=\"colab-df-quickchart\" onclick=\"quickchart('df-77e494e5-cefb-4591-b9bf-0c16fe44f81e')\"\n",
              "            title=\"Suggest charts\"\n",
              "            style=\"display:none;\">\n",
              "\n",
              "<svg xmlns=\"http://www.w3.org/2000/svg\" height=\"24px\"viewBox=\"0 0 24 24\"\n",
              "     width=\"24px\">\n",
              "    <g>\n",
              "        <path d=\"M19 3H5c-1.1 0-2 .9-2 2v14c0 1.1.9 2 2 2h14c1.1 0 2-.9 2-2V5c0-1.1-.9-2-2-2zM9 17H7v-7h2v7zm4 0h-2V7h2v10zm4 0h-2v-4h2v4z\"/>\n",
              "    </g>\n",
              "</svg>\n",
              "  </button>\n",
              "\n",
              "<style>\n",
              "  .colab-df-quickchart {\n",
              "      --bg-color: #E8F0FE;\n",
              "      --fill-color: #1967D2;\n",
              "      --hover-bg-color: #E2EBFA;\n",
              "      --hover-fill-color: #174EA6;\n",
              "      --disabled-fill-color: #AAA;\n",
              "      --disabled-bg-color: #DDD;\n",
              "  }\n",
              "\n",
              "  [theme=dark] .colab-df-quickchart {\n",
              "      --bg-color: #3B4455;\n",
              "      --fill-color: #D2E3FC;\n",
              "      --hover-bg-color: #434B5C;\n",
              "      --hover-fill-color: #FFFFFF;\n",
              "      --disabled-bg-color: #3B4455;\n",
              "      --disabled-fill-color: #666;\n",
              "  }\n",
              "\n",
              "  .colab-df-quickchart {\n",
              "    background-color: var(--bg-color);\n",
              "    border: none;\n",
              "    border-radius: 50%;\n",
              "    cursor: pointer;\n",
              "    display: none;\n",
              "    fill: var(--fill-color);\n",
              "    height: 32px;\n",
              "    padding: 0;\n",
              "    width: 32px;\n",
              "  }\n",
              "\n",
              "  .colab-df-quickchart:hover {\n",
              "    background-color: var(--hover-bg-color);\n",
              "    box-shadow: 0 1px 2px rgba(60, 64, 67, 0.3), 0 1px 3px 1px rgba(60, 64, 67, 0.15);\n",
              "    fill: var(--button-hover-fill-color);\n",
              "  }\n",
              "\n",
              "  .colab-df-quickchart-complete:disabled,\n",
              "  .colab-df-quickchart-complete:disabled:hover {\n",
              "    background-color: var(--disabled-bg-color);\n",
              "    fill: var(--disabled-fill-color);\n",
              "    box-shadow: none;\n",
              "  }\n",
              "\n",
              "  .colab-df-spinner {\n",
              "    border: 2px solid var(--fill-color);\n",
              "    border-color: transparent;\n",
              "    border-bottom-color: var(--fill-color);\n",
              "    animation:\n",
              "      spin 1s steps(1) infinite;\n",
              "  }\n",
              "\n",
              "  @keyframes spin {\n",
              "    0% {\n",
              "      border-color: transparent;\n",
              "      border-bottom-color: var(--fill-color);\n",
              "      border-left-color: var(--fill-color);\n",
              "    }\n",
              "    20% {\n",
              "      border-color: transparent;\n",
              "      border-left-color: var(--fill-color);\n",
              "      border-top-color: var(--fill-color);\n",
              "    }\n",
              "    30% {\n",
              "      border-color: transparent;\n",
              "      border-left-color: var(--fill-color);\n",
              "      border-top-color: var(--fill-color);\n",
              "      border-right-color: var(--fill-color);\n",
              "    }\n",
              "    40% {\n",
              "      border-color: transparent;\n",
              "      border-right-color: var(--fill-color);\n",
              "      border-top-color: var(--fill-color);\n",
              "    }\n",
              "    60% {\n",
              "      border-color: transparent;\n",
              "      border-right-color: var(--fill-color);\n",
              "    }\n",
              "    80% {\n",
              "      border-color: transparent;\n",
              "      border-right-color: var(--fill-color);\n",
              "      border-bottom-color: var(--fill-color);\n",
              "    }\n",
              "    90% {\n",
              "      border-color: transparent;\n",
              "      border-bottom-color: var(--fill-color);\n",
              "    }\n",
              "  }\n",
              "</style>\n",
              "\n",
              "  <script>\n",
              "    async function quickchart(key) {\n",
              "      const quickchartButtonEl =\n",
              "        document.querySelector('#' + key + ' button');\n",
              "      quickchartButtonEl.disabled = true;  // To prevent multiple clicks.\n",
              "      quickchartButtonEl.classList.add('colab-df-spinner');\n",
              "      try {\n",
              "        const charts = await google.colab.kernel.invokeFunction(\n",
              "            'suggestCharts', [key], {});\n",
              "      } catch (error) {\n",
              "        console.error('Error during call to suggestCharts:', error);\n",
              "      }\n",
              "      quickchartButtonEl.classList.remove('colab-df-spinner');\n",
              "      quickchartButtonEl.classList.add('colab-df-quickchart-complete');\n",
              "    }\n",
              "    (() => {\n",
              "      let quickchartButtonEl =\n",
              "        document.querySelector('#df-77e494e5-cefb-4591-b9bf-0c16fe44f81e button');\n",
              "      quickchartButtonEl.style.display =\n",
              "        google.colab.kernel.accessAllowed ? 'block' : 'none';\n",
              "    })();\n",
              "  </script>\n",
              "</div>\n",
              "\n",
              "    </div>\n",
              "  </div>\n"
            ],
            "application/vnd.google.colaboratory.intrinsic+json": {
              "type": "dataframe",
              "variable_name": "covid"
            }
          },
          "metadata": {},
          "execution_count": 57
        }
      ]
    },
    {
      "cell_type": "code",
      "source": [
        "#Mostrar la informacion del archivo.\n",
        "#Muestea el numero de registros, tipos de datos de la columna, valores nulos, memoria utilizada\n",
        "covid.info()"
      ],
      "metadata": {
        "id": "2ljEBbcGN2UD",
        "outputId": "6405df64-541b-4723-c120-e25ebbd00231",
        "colab": {
          "base_uri": "https://localhost:8080/"
        }
      },
      "execution_count": 58,
      "outputs": [
        {
          "output_type": "stream",
          "name": "stdout",
          "text": [
            "<class 'pandas.core.frame.DataFrame'>\n",
            "RangeIndex: 227017 entries, 0 to 227016\n",
            "Data columns (total 23 columns):\n",
            " #   Column          Non-Null Count   Dtype  \n",
            "---  ------          --------------   -----  \n",
            " 0   ï»¿ORIGEN       227017 non-null  int64  \n",
            " 1   SECTOR          227017 non-null  int64  \n",
            " 2   SEXO            227017 non-null  object \n",
            " 3   ENTIDAD_NAC     227017 non-null  object \n",
            " 4   TIPO_PACIENTE   227017 non-null  object \n",
            " 5   FECHA_INGRESO   227017 non-null  object \n",
            " 6   FECHA_SINTOMAS  227017 non-null  object \n",
            " 7   FECHA_DEF       227017 non-null  object \n",
            " 8   INTUBADO        227017 non-null  object \n",
            " 9   NEUMONIA        227016 non-null  object \n",
            " 10  EDAD            227016 non-null  float64\n",
            " 11  EMBARAZO        227016 non-null  object \n",
            " 12  DIABETES        227016 non-null  object \n",
            " 13  EPOC            227016 non-null  object \n",
            " 14  ASMA            227016 non-null  object \n",
            " 15  INMUSUPR        227016 non-null  object \n",
            " 16  HIPERTENSION    227016 non-null  object \n",
            " 17  CARDIOVASCULAR  227016 non-null  object \n",
            " 18  OBESIDAD        227016 non-null  object \n",
            " 19  RENAL_CRONICA   227016 non-null  object \n",
            " 20  TABAQUISMO      227016 non-null  object \n",
            " 21  RESULTADO       227016 non-null  object \n",
            " 22  UCI             227016 non-null  object \n",
            "dtypes: float64(1), int64(2), object(20)\n",
            "memory usage: 39.8+ MB\n"
          ]
        }
      ]
    },
    {
      "cell_type": "code",
      "source": [
        "#Mostrar la edad maxima de la base de datos de la columna edad\n",
        "covid.EDAD.max()"
      ],
      "metadata": {
        "id": "84oS-Ap7OKJy",
        "outputId": "cf51e679-6e86-46ab-a59f-f34fa5bbd020",
        "colab": {
          "base_uri": "https://localhost:8080/"
        }
      },
      "execution_count": 59,
      "outputs": [
        {
          "output_type": "execute_result",
          "data": {
            "text/plain": [
              "39.0"
            ]
          },
          "metadata": {},
          "execution_count": 59
        }
      ]
    },
    {
      "cell_type": "code",
      "source": [
        "#Mostrar la edad minima de la base de datos de la columna edad\n",
        "covid.EDAD.min()\n"
      ],
      "metadata": {
        "id": "yzFmY8tqOUlh",
        "outputId": "698a3cef-c66f-424d-9815-782ebffc347b",
        "colab": {
          "base_uri": "https://localhost:8080/"
        }
      },
      "execution_count": 60,
      "outputs": [
        {
          "output_type": "execute_result",
          "data": {
            "text/plain": [
              "0.0"
            ]
          },
          "metadata": {},
          "execution_count": 60
        }
      ]
    },
    {
      "cell_type": "code",
      "source": [
        "#Moatrar los estadisticos descriptivos de la columna edad\n",
        "covid.EDAD.describe()"
      ],
      "metadata": {
        "id": "UrEu3sI6OeSI",
        "outputId": "d1a63edd-ba45-44ef-e236-0771805a8b92",
        "colab": {
          "base_uri": "https://localhost:8080/",
          "height": 335
        }
      },
      "execution_count": 61,
      "outputs": [
        {
          "output_type": "execute_result",
          "data": {
            "text/plain": [
              "count    227016.000000\n",
              "mean         28.483613\n",
              "std           8.372700\n",
              "min           0.000000\n",
              "25%          25.000000\n",
              "50%          30.000000\n",
              "75%          35.000000\n",
              "max          39.000000\n",
              "Name: EDAD, dtype: float64"
            ],
            "text/html": [
              "<div>\n",
              "<style scoped>\n",
              "    .dataframe tbody tr th:only-of-type {\n",
              "        vertical-align: middle;\n",
              "    }\n",
              "\n",
              "    .dataframe tbody tr th {\n",
              "        vertical-align: top;\n",
              "    }\n",
              "\n",
              "    .dataframe thead th {\n",
              "        text-align: right;\n",
              "    }\n",
              "</style>\n",
              "<table border=\"1\" class=\"dataframe\">\n",
              "  <thead>\n",
              "    <tr style=\"text-align: right;\">\n",
              "      <th></th>\n",
              "      <th>EDAD</th>\n",
              "    </tr>\n",
              "  </thead>\n",
              "  <tbody>\n",
              "    <tr>\n",
              "      <th>count</th>\n",
              "      <td>227016.000000</td>\n",
              "    </tr>\n",
              "    <tr>\n",
              "      <th>mean</th>\n",
              "      <td>28.483613</td>\n",
              "    </tr>\n",
              "    <tr>\n",
              "      <th>std</th>\n",
              "      <td>8.372700</td>\n",
              "    </tr>\n",
              "    <tr>\n",
              "      <th>min</th>\n",
              "      <td>0.000000</td>\n",
              "    </tr>\n",
              "    <tr>\n",
              "      <th>25%</th>\n",
              "      <td>25.000000</td>\n",
              "    </tr>\n",
              "    <tr>\n",
              "      <th>50%</th>\n",
              "      <td>30.000000</td>\n",
              "    </tr>\n",
              "    <tr>\n",
              "      <th>75%</th>\n",
              "      <td>35.000000</td>\n",
              "    </tr>\n",
              "    <tr>\n",
              "      <th>max</th>\n",
              "      <td>39.000000</td>\n",
              "    </tr>\n",
              "  </tbody>\n",
              "</table>\n",
              "</div><br><label><b>dtype:</b> float64</label>"
            ]
          },
          "metadata": {},
          "execution_count": 61
        }
      ]
    },
    {
      "cell_type": "code",
      "source": [
        "# Dibuja el historama del atributo \"EDAD\" CON BINS = 3\n",
        "# CALCULAR LA MEDIA Y GUARDARLA EN UNA VARIABLE PARA MOSTRARLA EN EL HISTOGRAMA\n",
        "media = covid.EDAD.mean()\n",
        "plt.pyplot.hist(covid.EDAD, bins = 11)\n",
        "plt.pyplot.title(\"Histograma Edad pruenas covid \")\n",
        "plt.pyplot.axvline(media, color ='y', linestyle = 'dashed', linewidth = 2, label=f'Media={media:.2}')\n",
        "plt.pyplot.xlabel(\"Edad\")\n",
        "plt.pyplot.ylabel(\"Frecuencia\")\n",
        "\n"
      ],
      "metadata": {
        "id": "tcSdJQyUOwYX",
        "outputId": "b37410da-a508-41c3-bedd-afee46e3f684",
        "colab": {
          "base_uri": "https://localhost:8080/",
          "height": 489
        }
      },
      "execution_count": 62,
      "outputs": [
        {
          "output_type": "execute_result",
          "data": {
            "text/plain": [
              "Text(0, 0.5, 'Frecuencia')"
            ]
          },
          "metadata": {},
          "execution_count": 62
        },
        {
          "output_type": "display_data",
          "data": {
            "text/plain": [
              "<Figure size 640x480 with 1 Axes>"
            ],
            "image/png": "[encoded data removed]"
          },
          "metadata": {}
        }
      ]
    },
    {
      "cell_type": "code",
      "source": [
        "#Dibuje el histograma de la columna sexo\n",
        "# esto permite comparar cuantos hay en vcada grupo\n",
        "plt.pyplot.hist(covid.SEXO, bins = 3)\n",
        "# Establece las etiquetas x/y y muestra el titulo\n",
        "plt.pyplot.title(\"Histograma Sexo de pruebas COVID \")\n",
        "plt.pyplot.xlabel(\"Sexo\")\n",
        "plt.pyplot.ylabel(\"Frecuencia\")\n"
      ],
      "metadata": {
        "id": "si44I6C9QDjX",
        "outputId": "8b7055c9-7c78-40b9-9c54-f2d59130dcda",
        "colab": {
          "base_uri": "https://localhost:8080/",
          "height": 489
        }
      },
      "execution_count": 63,
      "outputs": [
        {
          "output_type": "execute_result",
          "data": {
            "text/plain": [
              "Text(0, 0.5, 'Frecuencia')"
            ]
          },
          "metadata": {},
          "execution_count": 63
        },
        {
          "output_type": "display_data",
          "data": {
            "text/plain": [
              "<Figure size 640x480 with 1 Axes>"
            ],
            "image/png": "[encoded data removed]"
          },
          "metadata": {}
        }
      ]
    },
    {
      "cell_type": "code",
      "source": [
        "# Dibuja el histograma del atributo \"tipo paciente \"\n",
        "# comparar cuantos hay en cada grupo\n",
        "plt.pyplot.hist(covid.TIPO_PACIENTE, bins = 3)\n",
        "# Establece las etiquetas x/y y muestra el titulo\n",
        "plt.pyplot.title(\"Histograma de tipos de pacientes en pruebas COVID \")\n",
        "plt.pyplot.xlabel(\"Tipo de pacientes\")\n",
        "plt.pyplot.ylabel(\"Frecuencia\")"
      ],
      "metadata": {
        "id": "H-kDu0_nQ6sB",
        "outputId": "a300653f-ce84-4d43-c78e-5fc246f94b6d",
        "colab": {
          "base_uri": "https://localhost:8080/",
          "height": 489
        }
      },
      "execution_count": 64,
      "outputs": [
        {
          "output_type": "execute_result",
          "data": {
            "text/plain": [
              "Text(0, 0.5, 'Frecuencia')"
            ]
          },
          "metadata": {},
          "execution_count": 64
        },
        {
          "output_type": "display_data",
          "data": {
            "text/plain": [
              "<Figure size 640x480 with 1 Axes>"
            ],
            "image/png": "[encoded data removed]"
          },
          "metadata": {}
        }
      ]
    },
    {
      "cell_type": "code",
      "source": [
        "#Crear un diagrama de cajas para visualizar la distribucion de los rangos de edad por sexo\n",
        "sns.boxplot(x = \"SEXO\", y = \"EDAD\", data = covid)"
      ],
      "metadata": {
        "id": "w89h_jRwRhAo",
        "outputId": "ef1eba06-838c-4d3c-f003-0b0a65ed6a1a",
        "colab": {
          "base_uri": "https://localhost:8080/",
          "height": 466
        }
      },
      "execution_count": 65,
      "outputs": [
        {
          "output_type": "execute_result",
          "data": {
            "text/plain": [
              "<Axes: xlabel='SEXO', ylabel='EDAD'>"
            ]
          },
          "metadata": {},
          "execution_count": 65
        },
        {
          "output_type": "display_data",
          "data": {
            "text/plain": [
              "<Figure size 640x480 with 1 Axes>"
            ],
            "image/png": "[encoded data removed]"
          },
          "metadata": {}
        }
      ]
    },
    {
      "cell_type": "code",
      "source": [
        "#Crear un diagrama de cajas para visualizar la distribucion de los rangos de edad por tipo de paciente\n",
        "sns.boxplot(x = \"TIPO_PACIENTE\", y = \"EDAD\", data= covid )"
      ],
      "metadata": {
        "id": "tFaRSywaR7N7",
        "outputId": "7a44c71a-1954-43b1-daf2-f276dba6338b",
        "colab": {
          "base_uri": "https://localhost:8080/",
          "height": 466
        }
      },
      "execution_count": 66,
      "outputs": [
        {
          "output_type": "execute_result",
          "data": {
            "text/plain": [
              "<Axes: xlabel='TIPO_PACIENTE', ylabel='EDAD'>"
            ]
          },
          "metadata": {},
          "execution_count": 66
        },
        {
          "output_type": "display_data",
          "data": {
            "text/plain": [
              "<Figure size 640x480 with 1 Axes>"
            ],
            "image/png": "[encoded data removed]"
          },
          "metadata": {}
        }
      ]
    },
    {
      "cell_type": "code",
      "source": [
        "#Crear un diagrama de cajas para visualizar la distribucion de los rangos de edad por tipo de paciente\n",
        "sns.boxplot(x = \"RESULTADO\", y = \"EDAD\", data= covid )"
      ],
      "metadata": {
        "id": "kkDOiUbwSaZF",
        "outputId": "dbf39956-2459-4dfd-ba06-561ae1867917",
        "colab": {
          "base_uri": "https://localhost:8080/",
          "height": 466
        }
      },
      "execution_count": 67,
      "outputs": [
        {
          "output_type": "execute_result",
          "data": {
            "text/plain": [
              "<Axes: xlabel='RESULTADO', ylabel='EDAD'>"
            ]
          },
          "metadata": {},
          "execution_count": 67
        },
        {
          "output_type": "display_data",
          "data": {
            "text/plain": [
              "<Figure size 640x480 with 1 Axes>"
            ],
            "image/png": "[encoded data removed]"
          },
          "metadata": {}
        }
      ]
    },
    {
      "cell_type": "code",
      "source": [],
      "metadata": {
        "id": "BTAVJjH8Sniu"
      },
      "execution_count": 67,
      "outputs": []
    }
  ]
}