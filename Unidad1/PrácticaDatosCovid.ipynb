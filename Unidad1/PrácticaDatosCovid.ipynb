{
  "nbformat": 4,
  "nbformat_minor": 0,
  "metadata": {
    "colab": {
      "provenance": [],
      "authorship_tag": "ABX9TyMmCF6Oj1HP7uAxqY+VpBPJ",
      "include_colab_link": true
    },
    "kernelspec": {
      "name": "python3",
      "display_name": "Python 3"
    },
    "language_info": {
      "name": "python"
    }
  },
  "cells": [
    {
      "cell_type": "markdown",
      "metadata": {
        "id": "view-in-github",
        "colab_type": "text"
      },
      "source": [
        "<a href=\"https://colab.research.google.com/github/AnahiGutierrez22/Estadistica/blob/main/Unidad1/Pr%C3%A1cticaDatosCovid.ipynb\" target=\"_parent\"><img src=\"https://colab.research.google.com/assets/colab-badge.svg\" alt=\"Open In Colab\"/></a>"
      ]
    },
    {
      "cell_type": "markdown",
      "source": [
        "#Probabilidad y estadistica\n",
        "Unidad 1\n",
        "\n",
        "Grupo: 2YY\n",
        "\n",
        "Anahi Bautista\n",
        "\n",
        "Practica Estadistica Descriptiva de Base de Datos COVID"
      ],
      "metadata": {
        "id": "jjkC_7AEIKB_"
      }
    },
    {
      "cell_type": "code",
      "execution_count": null,
      "metadata": {
        "id": "OJG4AjxUHXV_"
      },
      "outputs": [],
      "source": [
        "import pandas as pd\n",
        "import matplotlib as plt\n",
        "import seaborn as sns\n",
        "from matplotlib import pyplot"
      ]
    }
  ]
}